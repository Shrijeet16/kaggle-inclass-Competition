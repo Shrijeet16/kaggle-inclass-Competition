{
  "nbformat": 4,
  "nbformat_minor": 0,
  "metadata": {
    "colab": {
      "name": "Cassava validation analysis.ipynb",
      "provenance": [],
      "authorship_tag": "ABX9TyOquTeSPjQUbGKOEHWBgSHw",
      "include_colab_link": true
    },
    "kernelspec": {
      "name": "python3",
      "display_name": "Python 3"
    },
    "accelerator": "GPU",
    "widgets": {
      "application/vnd.jupyter.widget-state+json": {
        "6e349b5457934edabb37bf33762f0fd1": {
          "model_module": "@jupyter-widgets/controls",
          "model_name": "HBoxModel",
          "state": {
            "_view_name": "HBoxView",
            "_dom_classes": [],
            "_model_name": "HBoxModel",
            "_view_module": "@jupyter-widgets/controls",
            "_model_module_version": "1.5.0",
            "_view_count": null,
            "_view_module_version": "1.5.0",
            "box_style": "",
            "layout": "IPY_MODEL_153bd33395414ef4a4de33c0f811748e",
            "_model_module": "@jupyter-widgets/controls",
            "children": [
              "IPY_MODEL_47ca618049a94c82be90c3d600d87fb1",
              "IPY_MODEL_ab22d0267c034551add9fc12a329359f"
            ]
          }
        },
        "153bd33395414ef4a4de33c0f811748e": {
          "model_module": "@jupyter-widgets/base",
          "model_name": "LayoutModel",
          "state": {
            "_view_name": "LayoutView",
            "grid_template_rows": null,
            "right": null,
            "justify_content": null,
            "_view_module": "@jupyter-widgets/base",
            "overflow": null,
            "_model_module_version": "1.2.0",
            "_view_count": null,
            "flex_flow": null,
            "width": null,
            "min_width": null,
            "border": null,
            "align_items": null,
            "bottom": null,
            "_model_module": "@jupyter-widgets/base",
            "top": null,
            "grid_column": null,
            "overflow_y": null,
            "overflow_x": null,
            "grid_auto_flow": null,
            "grid_area": null,
            "grid_template_columns": null,
            "flex": null,
            "_model_name": "LayoutModel",
            "justify_items": null,
            "grid_row": null,
            "max_height": null,
            "align_content": null,
            "visibility": null,
            "align_self": null,
            "height": null,
            "min_height": null,
            "padding": null,
            "grid_auto_rows": null,
            "grid_gap": null,
            "max_width": null,
            "order": null,
            "_view_module_version": "1.2.0",
            "grid_template_areas": null,
            "object_position": null,
            "object_fit": null,
            "grid_auto_columns": null,
            "margin": null,
            "display": null,
            "left": null
          }
        },
        "47ca618049a94c82be90c3d600d87fb1": {
          "model_module": "@jupyter-widgets/controls",
          "model_name": "FloatProgressModel",
          "state": {
            "_view_name": "ProgressView",
            "style": "IPY_MODEL_130dbcf1667840dc986dafeccec9c6bf",
            "_dom_classes": [],
            "description": "100%",
            "_model_name": "FloatProgressModel",
            "bar_style": "success",
            "max": 535,
            "_view_module": "@jupyter-widgets/controls",
            "_model_module_version": "1.5.0",
            "value": 535,
            "_view_count": null,
            "_view_module_version": "1.5.0",
            "orientation": "horizontal",
            "min": 0,
            "description_tooltip": null,
            "_model_module": "@jupyter-widgets/controls",
            "layout": "IPY_MODEL_9931f5031f534df8a75300e0f57ecac9"
          }
        },
        "ab22d0267c034551add9fc12a329359f": {
          "model_module": "@jupyter-widgets/controls",
          "model_name": "HTMLModel",
          "state": {
            "_view_name": "HTMLView",
            "style": "IPY_MODEL_26acb1eb52714390889735c1021e8d4a",
            "_dom_classes": [],
            "description": "",
            "_model_name": "HTMLModel",
            "placeholder": "​",
            "_view_module": "@jupyter-widgets/controls",
            "_model_module_version": "1.5.0",
            "value": " 535/535 [03:48&lt;00:00,  2.34it/s]",
            "_view_count": null,
            "_view_module_version": "1.5.0",
            "description_tooltip": null,
            "_model_module": "@jupyter-widgets/controls",
            "layout": "IPY_MODEL_f6cba0efc9364fbe967e6add3f7bd6fc"
          }
        },
        "130dbcf1667840dc986dafeccec9c6bf": {
          "model_module": "@jupyter-widgets/controls",
          "model_name": "ProgressStyleModel",
          "state": {
            "_view_name": "StyleView",
            "_model_name": "ProgressStyleModel",
            "description_width": "initial",
            "_view_module": "@jupyter-widgets/base",
            "_model_module_version": "1.5.0",
            "_view_count": null,
            "_view_module_version": "1.2.0",
            "bar_color": null,
            "_model_module": "@jupyter-widgets/controls"
          }
        },
        "9931f5031f534df8a75300e0f57ecac9": {
          "model_module": "@jupyter-widgets/base",
          "model_name": "LayoutModel",
          "state": {
            "_view_name": "LayoutView",
            "grid_template_rows": null,
            "right": null,
            "justify_content": null,
            "_view_module": "@jupyter-widgets/base",
            "overflow": null,
            "_model_module_version": "1.2.0",
            "_view_count": null,
            "flex_flow": null,
            "width": null,
            "min_width": null,
            "border": null,
            "align_items": null,
            "bottom": null,
            "_model_module": "@jupyter-widgets/base",
            "top": null,
            "grid_column": null,
            "overflow_y": null,
            "overflow_x": null,
            "grid_auto_flow": null,
            "grid_area": null,
            "grid_template_columns": null,
            "flex": null,
            "_model_name": "LayoutModel",
            "justify_items": null,
            "grid_row": null,
            "max_height": null,
            "align_content": null,
            "visibility": null,
            "align_self": null,
            "height": null,
            "min_height": null,
            "padding": null,
            "grid_auto_rows": null,
            "grid_gap": null,
            "max_width": null,
            "order": null,
            "_view_module_version": "1.2.0",
            "grid_template_areas": null,
            "object_position": null,
            "object_fit": null,
            "grid_auto_columns": null,
            "margin": null,
            "display": null,
            "left": null
          }
        },
        "26acb1eb52714390889735c1021e8d4a": {
          "model_module": "@jupyter-widgets/controls",
          "model_name": "DescriptionStyleModel",
          "state": {
            "_view_name": "StyleView",
            "_model_name": "DescriptionStyleModel",
            "description_width": "",
            "_view_module": "@jupyter-widgets/base",
            "_model_module_version": "1.5.0",
            "_view_count": null,
            "_view_module_version": "1.2.0",
            "_model_module": "@jupyter-widgets/controls"
          }
        },
        "f6cba0efc9364fbe967e6add3f7bd6fc": {
          "model_module": "@jupyter-widgets/base",
          "model_name": "LayoutModel",
          "state": {
            "_view_name": "LayoutView",
            "grid_template_rows": null,
            "right": null,
            "justify_content": null,
            "_view_module": "@jupyter-widgets/base",
            "overflow": null,
            "_model_module_version": "1.2.0",
            "_view_count": null,
            "flex_flow": null,
            "width": null,
            "min_width": null,
            "border": null,
            "align_items": null,
            "bottom": null,
            "_model_module": "@jupyter-widgets/base",
            "top": null,
            "grid_column": null,
            "overflow_y": null,
            "overflow_x": null,
            "grid_auto_flow": null,
            "grid_area": null,
            "grid_template_columns": null,
            "flex": null,
            "_model_name": "LayoutModel",
            "justify_items": null,
            "grid_row": null,
            "max_height": null,
            "align_content": null,
            "visibility": null,
            "align_self": null,
            "height": null,
            "min_height": null,
            "padding": null,
            "grid_auto_rows": null,
            "grid_gap": null,
            "max_width": null,
            "order": null,
            "_view_module_version": "1.2.0",
            "grid_template_areas": null,
            "object_position": null,
            "object_fit": null,
            "grid_auto_columns": null,
            "margin": null,
            "display": null,
            "left": null
          }
        },
        "70b43fa1b66a4c94a267e46b80b2ca3c": {
          "model_module": "@jupyter-widgets/controls",
          "model_name": "HBoxModel",
          "state": {
            "_view_name": "HBoxView",
            "_dom_classes": [],
            "_model_name": "HBoxModel",
            "_view_module": "@jupyter-widgets/controls",
            "_model_module_version": "1.5.0",
            "_view_count": null,
            "_view_module_version": "1.5.0",
            "box_style": "",
            "layout": "IPY_MODEL_b5e2f7e81803472a9cb32ed3cf3e3ca6",
            "_model_module": "@jupyter-widgets/controls",
            "children": [
              "IPY_MODEL_6660a14023d0413e8d568690820e72c1",
              "IPY_MODEL_bdfc73eedc5a4a88b7fc374eda20eb2d"
            ]
          }
        },
        "b5e2f7e81803472a9cb32ed3cf3e3ca6": {
          "model_module": "@jupyter-widgets/base",
          "model_name": "LayoutModel",
          "state": {
            "_view_name": "LayoutView",
            "grid_template_rows": null,
            "right": null,
            "justify_content": null,
            "_view_module": "@jupyter-widgets/base",
            "overflow": null,
            "_model_module_version": "1.2.0",
            "_view_count": null,
            "flex_flow": null,
            "width": null,
            "min_width": null,
            "border": null,
            "align_items": null,
            "bottom": null,
            "_model_module": "@jupyter-widgets/base",
            "top": null,
            "grid_column": null,
            "overflow_y": null,
            "overflow_x": null,
            "grid_auto_flow": null,
            "grid_area": null,
            "grid_template_columns": null,
            "flex": null,
            "_model_name": "LayoutModel",
            "justify_items": null,
            "grid_row": null,
            "max_height": null,
            "align_content": null,
            "visibility": null,
            "align_self": null,
            "height": null,
            "min_height": null,
            "padding": null,
            "grid_auto_rows": null,
            "grid_gap": null,
            "max_width": null,
            "order": null,
            "_view_module_version": "1.2.0",
            "grid_template_areas": null,
            "object_position": null,
            "object_fit": null,
            "grid_auto_columns": null,
            "margin": null,
            "display": null,
            "left": null
          }
        },
        "6660a14023d0413e8d568690820e72c1": {
          "model_module": "@jupyter-widgets/controls",
          "model_name": "FloatProgressModel",
          "state": {
            "_view_name": "ProgressView",
            "style": "IPY_MODEL_b52c95fc42a14fbd80d059064b7d6630",
            "_dom_classes": [],
            "description": "100%",
            "_model_name": "FloatProgressModel",
            "bar_style": "success",
            "max": 535,
            "_view_module": "@jupyter-widgets/controls",
            "_model_module_version": "1.5.0",
            "value": 535,
            "_view_count": null,
            "_view_module_version": "1.5.0",
            "orientation": "horizontal",
            "min": 0,
            "description_tooltip": null,
            "_model_module": "@jupyter-widgets/controls",
            "layout": "IPY_MODEL_09d57bf6947746cf9af4a8e1898bdb3c"
          }
        },
        "bdfc73eedc5a4a88b7fc374eda20eb2d": {
          "model_module": "@jupyter-widgets/controls",
          "model_name": "HTMLModel",
          "state": {
            "_view_name": "HTMLView",
            "style": "IPY_MODEL_ea2764a6b2df4607b38f4ac2375b144d",
            "_dom_classes": [],
            "description": "",
            "_model_name": "HTMLModel",
            "placeholder": "​",
            "_view_module": "@jupyter-widgets/controls",
            "_model_module_version": "1.5.0",
            "value": " 535/535 [02:58&lt;00:00,  3.00it/s]",
            "_view_count": null,
            "_view_module_version": "1.5.0",
            "description_tooltip": null,
            "_model_module": "@jupyter-widgets/controls",
            "layout": "IPY_MODEL_3e900514cc1f46928712e305ed3dcb51"
          }
        },
        "b52c95fc42a14fbd80d059064b7d6630": {
          "model_module": "@jupyter-widgets/controls",
          "model_name": "ProgressStyleModel",
          "state": {
            "_view_name": "StyleView",
            "_model_name": "ProgressStyleModel",
            "description_width": "initial",
            "_view_module": "@jupyter-widgets/base",
            "_model_module_version": "1.5.0",
            "_view_count": null,
            "_view_module_version": "1.2.0",
            "bar_color": null,
            "_model_module": "@jupyter-widgets/controls"
          }
        },
        "09d57bf6947746cf9af4a8e1898bdb3c": {
          "model_module": "@jupyter-widgets/base",
          "model_name": "LayoutModel",
          "state": {
            "_view_name": "LayoutView",
            "grid_template_rows": null,
            "right": null,
            "justify_content": null,
            "_view_module": "@jupyter-widgets/base",
            "overflow": null,
            "_model_module_version": "1.2.0",
            "_view_count": null,
            "flex_flow": null,
            "width": null,
            "min_width": null,
            "border": null,
            "align_items": null,
            "bottom": null,
            "_model_module": "@jupyter-widgets/base",
            "top": null,
            "grid_column": null,
            "overflow_y": null,
            "overflow_x": null,
            "grid_auto_flow": null,
            "grid_area": null,
            "grid_template_columns": null,
            "flex": null,
            "_model_name": "LayoutModel",
            "justify_items": null,
            "grid_row": null,
            "max_height": null,
            "align_content": null,
            "visibility": null,
            "align_self": null,
            "height": null,
            "min_height": null,
            "padding": null,
            "grid_auto_rows": null,
            "grid_gap": null,
            "max_width": null,
            "order": null,
            "_view_module_version": "1.2.0",
            "grid_template_areas": null,
            "object_position": null,
            "object_fit": null,
            "grid_auto_columns": null,
            "margin": null,
            "display": null,
            "left": null
          }
        },
        "ea2764a6b2df4607b38f4ac2375b144d": {
          "model_module": "@jupyter-widgets/controls",
          "model_name": "DescriptionStyleModel",
          "state": {
            "_view_name": "StyleView",
            "_model_name": "DescriptionStyleModel",
            "description_width": "",
            "_view_module": "@jupyter-widgets/base",
            "_model_module_version": "1.5.0",
            "_view_count": null,
            "_view_module_version": "1.2.0",
            "_model_module": "@jupyter-widgets/controls"
          }
        },
        "3e900514cc1f46928712e305ed3dcb51": {
          "model_module": "@jupyter-widgets/base",
          "model_name": "LayoutModel",
          "state": {
            "_view_name": "LayoutView",
            "grid_template_rows": null,
            "right": null,
            "justify_content": null,
            "_view_module": "@jupyter-widgets/base",
            "overflow": null,
            "_model_module_version": "1.2.0",
            "_view_count": null,
            "flex_flow": null,
            "width": null,
            "min_width": null,
            "border": null,
            "align_items": null,
            "bottom": null,
            "_model_module": "@jupyter-widgets/base",
            "top": null,
            "grid_column": null,
            "overflow_y": null,
            "overflow_x": null,
            "grid_auto_flow": null,
            "grid_area": null,
            "grid_template_columns": null,
            "flex": null,
            "_model_name": "LayoutModel",
            "justify_items": null,
            "grid_row": null,
            "max_height": null,
            "align_content": null,
            "visibility": null,
            "align_self": null,
            "height": null,
            "min_height": null,
            "padding": null,
            "grid_auto_rows": null,
            "grid_gap": null,
            "max_width": null,
            "order": null,
            "_view_module_version": "1.2.0",
            "grid_template_areas": null,
            "object_position": null,
            "object_fit": null,
            "grid_auto_columns": null,
            "margin": null,
            "display": null,
            "left": null
          }
        },
        "212d12d06e0b46838b80352ccd912934": {
          "model_module": "@jupyter-widgets/controls",
          "model_name": "HBoxModel",
          "state": {
            "_view_name": "HBoxView",
            "_dom_classes": [],
            "_model_name": "HBoxModel",
            "_view_module": "@jupyter-widgets/controls",
            "_model_module_version": "1.5.0",
            "_view_count": null,
            "_view_module_version": "1.5.0",
            "box_style": "",
            "layout": "IPY_MODEL_9aec25a69c494ce1b026ba0e01410ea5",
            "_model_module": "@jupyter-widgets/controls",
            "children": [
              "IPY_MODEL_51da7739c7fb4aafb4cb5358a167ff32",
              "IPY_MODEL_a444e5cb58d64029bcd6481212790b69"
            ]
          }
        },
        "9aec25a69c494ce1b026ba0e01410ea5": {
          "model_module": "@jupyter-widgets/base",
          "model_name": "LayoutModel",
          "state": {
            "_view_name": "LayoutView",
            "grid_template_rows": null,
            "right": null,
            "justify_content": null,
            "_view_module": "@jupyter-widgets/base",
            "overflow": null,
            "_model_module_version": "1.2.0",
            "_view_count": null,
            "flex_flow": null,
            "width": null,
            "min_width": null,
            "border": null,
            "align_items": null,
            "bottom": null,
            "_model_module": "@jupyter-widgets/base",
            "top": null,
            "grid_column": null,
            "overflow_y": null,
            "overflow_x": null,
            "grid_auto_flow": null,
            "grid_area": null,
            "grid_template_columns": null,
            "flex": null,
            "_model_name": "LayoutModel",
            "justify_items": null,
            "grid_row": null,
            "max_height": null,
            "align_content": null,
            "visibility": null,
            "align_self": null,
            "height": null,
            "min_height": null,
            "padding": null,
            "grid_auto_rows": null,
            "grid_gap": null,
            "max_width": null,
            "order": null,
            "_view_module_version": "1.2.0",
            "grid_template_areas": null,
            "object_position": null,
            "object_fit": null,
            "grid_auto_columns": null,
            "margin": null,
            "display": null,
            "left": null
          }
        },
        "51da7739c7fb4aafb4cb5358a167ff32": {
          "model_module": "@jupyter-widgets/controls",
          "model_name": "FloatProgressModel",
          "state": {
            "_view_name": "ProgressView",
            "style": "IPY_MODEL_567fa0b9b84d4f378bdd49c4c43ed11b",
            "_dom_classes": [],
            "description": "100%",
            "_model_name": "FloatProgressModel",
            "bar_style": "success",
            "max": 535,
            "_view_module": "@jupyter-widgets/controls",
            "_model_module_version": "1.5.0",
            "value": 535,
            "_view_count": null,
            "_view_module_version": "1.5.0",
            "orientation": "horizontal",
            "min": 0,
            "description_tooltip": null,
            "_model_module": "@jupyter-widgets/controls",
            "layout": "IPY_MODEL_a4e1eaa8cac74e39b6a6347244f45ff6"
          }
        },
        "a444e5cb58d64029bcd6481212790b69": {
          "model_module": "@jupyter-widgets/controls",
          "model_name": "HTMLModel",
          "state": {
            "_view_name": "HTMLView",
            "style": "IPY_MODEL_5698a459b8514e6d836f47c196a8f950",
            "_dom_classes": [],
            "description": "",
            "_model_name": "HTMLModel",
            "placeholder": "​",
            "_view_module": "@jupyter-widgets/controls",
            "_model_module_version": "1.5.0",
            "value": " 535/535 [07:04&lt;00:00,  1.26it/s]",
            "_view_count": null,
            "_view_module_version": "1.5.0",
            "description_tooltip": null,
            "_model_module": "@jupyter-widgets/controls",
            "layout": "IPY_MODEL_25086243460d4e70b61f66f5a9687c4b"
          }
        },
        "567fa0b9b84d4f378bdd49c4c43ed11b": {
          "model_module": "@jupyter-widgets/controls",
          "model_name": "ProgressStyleModel",
          "state": {
            "_view_name": "StyleView",
            "_model_name": "ProgressStyleModel",
            "description_width": "initial",
            "_view_module": "@jupyter-widgets/base",
            "_model_module_version": "1.5.0",
            "_view_count": null,
            "_view_module_version": "1.2.0",
            "bar_color": null,
            "_model_module": "@jupyter-widgets/controls"
          }
        },
        "a4e1eaa8cac74e39b6a6347244f45ff6": {
          "model_module": "@jupyter-widgets/base",
          "model_name": "LayoutModel",
          "state": {
            "_view_name": "LayoutView",
            "grid_template_rows": null,
            "right": null,
            "justify_content": null,
            "_view_module": "@jupyter-widgets/base",
            "overflow": null,
            "_model_module_version": "1.2.0",
            "_view_count": null,
            "flex_flow": null,
            "width": null,
            "min_width": null,
            "border": null,
            "align_items": null,
            "bottom": null,
            "_model_module": "@jupyter-widgets/base",
            "top": null,
            "grid_column": null,
            "overflow_y": null,
            "overflow_x": null,
            "grid_auto_flow": null,
            "grid_area": null,
            "grid_template_columns": null,
            "flex": null,
            "_model_name": "LayoutModel",
            "justify_items": null,
            "grid_row": null,
            "max_height": null,
            "align_content": null,
            "visibility": null,
            "align_self": null,
            "height": null,
            "min_height": null,
            "padding": null,
            "grid_auto_rows": null,
            "grid_gap": null,
            "max_width": null,
            "order": null,
            "_view_module_version": "1.2.0",
            "grid_template_areas": null,
            "object_position": null,
            "object_fit": null,
            "grid_auto_columns": null,
            "margin": null,
            "display": null,
            "left": null
          }
        },
        "5698a459b8514e6d836f47c196a8f950": {
          "model_module": "@jupyter-widgets/controls",
          "model_name": "DescriptionStyleModel",
          "state": {
            "_view_name": "StyleView",
            "_model_name": "DescriptionStyleModel",
            "description_width": "",
            "_view_module": "@jupyter-widgets/base",
            "_model_module_version": "1.5.0",
            "_view_count": null,
            "_view_module_version": "1.2.0",
            "_model_module": "@jupyter-widgets/controls"
          }
        },
        "25086243460d4e70b61f66f5a9687c4b": {
          "model_module": "@jupyter-widgets/base",
          "model_name": "LayoutModel",
          "state": {
            "_view_name": "LayoutView",
            "grid_template_rows": null,
            "right": null,
            "justify_content": null,
            "_view_module": "@jupyter-widgets/base",
            "overflow": null,
            "_model_module_version": "1.2.0",
            "_view_count": null,
            "flex_flow": null,
            "width": null,
            "min_width": null,
            "border": null,
            "align_items": null,
            "bottom": null,
            "_model_module": "@jupyter-widgets/base",
            "top": null,
            "grid_column": null,
            "overflow_y": null,
            "overflow_x": null,
            "grid_auto_flow": null,
            "grid_area": null,
            "grid_template_columns": null,
            "flex": null,
            "_model_name": "LayoutModel",
            "justify_items": null,
            "grid_row": null,
            "max_height": null,
            "align_content": null,
            "visibility": null,
            "align_self": null,
            "height": null,
            "min_height": null,
            "padding": null,
            "grid_auto_rows": null,
            "grid_gap": null,
            "max_width": null,
            "order": null,
            "_view_module_version": "1.2.0",
            "grid_template_areas": null,
            "object_position": null,
            "object_fit": null,
            "grid_auto_columns": null,
            "margin": null,
            "display": null,
            "left": null
          }
        },
        "983c573b2b1745baa6e814594b3b70bc": {
          "model_module": "@jupyter-widgets/controls",
          "model_name": "HBoxModel",
          "state": {
            "_view_name": "HBoxView",
            "_dom_classes": [],
            "_model_name": "HBoxModel",
            "_view_module": "@jupyter-widgets/controls",
            "_model_module_version": "1.5.0",
            "_view_count": null,
            "_view_module_version": "1.5.0",
            "box_style": "",
            "layout": "IPY_MODEL_6e0ffb48c00446b98e4aa65d24dd8e98",
            "_model_module": "@jupyter-widgets/controls",
            "children": [
              "IPY_MODEL_384d3a3a77034070ab9b6b680426a397",
              "IPY_MODEL_d4f55f2e714849d59b1c8f7fe3fe8aa7"
            ]
          }
        },
        "6e0ffb48c00446b98e4aa65d24dd8e98": {
          "model_module": "@jupyter-widgets/base",
          "model_name": "LayoutModel",
          "state": {
            "_view_name": "LayoutView",
            "grid_template_rows": null,
            "right": null,
            "justify_content": null,
            "_view_module": "@jupyter-widgets/base",
            "overflow": null,
            "_model_module_version": "1.2.0",
            "_view_count": null,
            "flex_flow": null,
            "width": null,
            "min_width": null,
            "border": null,
            "align_items": null,
            "bottom": null,
            "_model_module": "@jupyter-widgets/base",
            "top": null,
            "grid_column": null,
            "overflow_y": null,
            "overflow_x": null,
            "grid_auto_flow": null,
            "grid_area": null,
            "grid_template_columns": null,
            "flex": null,
            "_model_name": "LayoutModel",
            "justify_items": null,
            "grid_row": null,
            "max_height": null,
            "align_content": null,
            "visibility": null,
            "align_self": null,
            "height": null,
            "min_height": null,
            "padding": null,
            "grid_auto_rows": null,
            "grid_gap": null,
            "max_width": null,
            "order": null,
            "_view_module_version": "1.2.0",
            "grid_template_areas": null,
            "object_position": null,
            "object_fit": null,
            "grid_auto_columns": null,
            "margin": null,
            "display": null,
            "left": null
          }
        },
        "384d3a3a77034070ab9b6b680426a397": {
          "model_module": "@jupyter-widgets/controls",
          "model_name": "FloatProgressModel",
          "state": {
            "_view_name": "ProgressView",
            "style": "IPY_MODEL_2d1dd8767dd54af99650d8fb0457c971",
            "_dom_classes": [],
            "description": "100%",
            "_model_name": "FloatProgressModel",
            "bar_style": "success",
            "max": 535,
            "_view_module": "@jupyter-widgets/controls",
            "_model_module_version": "1.5.0",
            "value": 535,
            "_view_count": null,
            "_view_module_version": "1.5.0",
            "orientation": "horizontal",
            "min": 0,
            "description_tooltip": null,
            "_model_module": "@jupyter-widgets/controls",
            "layout": "IPY_MODEL_9e4a3e714dde4581b6514dd4dba1cffd"
          }
        },
        "d4f55f2e714849d59b1c8f7fe3fe8aa7": {
          "model_module": "@jupyter-widgets/controls",
          "model_name": "HTMLModel",
          "state": {
            "_view_name": "HTMLView",
            "style": "IPY_MODEL_38154d09a86749a8ab2c977228b7fe46",
            "_dom_classes": [],
            "description": "",
            "_model_name": "HTMLModel",
            "placeholder": "​",
            "_view_module": "@jupyter-widgets/controls",
            "_model_module_version": "1.5.0",
            "value": " 535/535 [03:10&lt;00:00,  2.80it/s]",
            "_view_count": null,
            "_view_module_version": "1.5.0",
            "description_tooltip": null,
            "_model_module": "@jupyter-widgets/controls",
            "layout": "IPY_MODEL_a6c5864a9d8744da9c6641e94ca85f6e"
          }
        },
        "2d1dd8767dd54af99650d8fb0457c971": {
          "model_module": "@jupyter-widgets/controls",
          "model_name": "ProgressStyleModel",
          "state": {
            "_view_name": "StyleView",
            "_model_name": "ProgressStyleModel",
            "description_width": "initial",
            "_view_module": "@jupyter-widgets/base",
            "_model_module_version": "1.5.0",
            "_view_count": null,
            "_view_module_version": "1.2.0",
            "bar_color": null,
            "_model_module": "@jupyter-widgets/controls"
          }
        },
        "9e4a3e714dde4581b6514dd4dba1cffd": {
          "model_module": "@jupyter-widgets/base",
          "model_name": "LayoutModel",
          "state": {
            "_view_name": "LayoutView",
            "grid_template_rows": null,
            "right": null,
            "justify_content": null,
            "_view_module": "@jupyter-widgets/base",
            "overflow": null,
            "_model_module_version": "1.2.0",
            "_view_count": null,
            "flex_flow": null,
            "width": null,
            "min_width": null,
            "border": null,
            "align_items": null,
            "bottom": null,
            "_model_module": "@jupyter-widgets/base",
            "top": null,
            "grid_column": null,
            "overflow_y": null,
            "overflow_x": null,
            "grid_auto_flow": null,
            "grid_area": null,
            "grid_template_columns": null,
            "flex": null,
            "_model_name": "LayoutModel",
            "justify_items": null,
            "grid_row": null,
            "max_height": null,
            "align_content": null,
            "visibility": null,
            "align_self": null,
            "height": null,
            "min_height": null,
            "padding": null,
            "grid_auto_rows": null,
            "grid_gap": null,
            "max_width": null,
            "order": null,
            "_view_module_version": "1.2.0",
            "grid_template_areas": null,
            "object_position": null,
            "object_fit": null,
            "grid_auto_columns": null,
            "margin": null,
            "display": null,
            "left": null
          }
        },
        "38154d09a86749a8ab2c977228b7fe46": {
          "model_module": "@jupyter-widgets/controls",
          "model_name": "DescriptionStyleModel",
          "state": {
            "_view_name": "StyleView",
            "_model_name": "DescriptionStyleModel",
            "description_width": "",
            "_view_module": "@jupyter-widgets/base",
            "_model_module_version": "1.5.0",
            "_view_count": null,
            "_view_module_version": "1.2.0",
            "_model_module": "@jupyter-widgets/controls"
          }
        },
        "a6c5864a9d8744da9c6641e94ca85f6e": {
          "model_module": "@jupyter-widgets/base",
          "model_name": "LayoutModel",
          "state": {
            "_view_name": "LayoutView",
            "grid_template_rows": null,
            "right": null,
            "justify_content": null,
            "_view_module": "@jupyter-widgets/base",
            "overflow": null,
            "_model_module_version": "1.2.0",
            "_view_count": null,
            "flex_flow": null,
            "width": null,
            "min_width": null,
            "border": null,
            "align_items": null,
            "bottom": null,
            "_model_module": "@jupyter-widgets/base",
            "top": null,
            "grid_column": null,
            "overflow_y": null,
            "overflow_x": null,
            "grid_auto_flow": null,
            "grid_area": null,
            "grid_template_columns": null,
            "flex": null,
            "_model_name": "LayoutModel",
            "justify_items": null,
            "grid_row": null,
            "max_height": null,
            "align_content": null,
            "visibility": null,
            "align_self": null,
            "height": null,
            "min_height": null,
            "padding": null,
            "grid_auto_rows": null,
            "grid_gap": null,
            "max_width": null,
            "order": null,
            "_view_module_version": "1.2.0",
            "grid_template_areas": null,
            "object_position": null,
            "object_fit": null,
            "grid_auto_columns": null,
            "margin": null,
            "display": null,
            "left": null
          }
        },
        "4ca97725bfa64df1a1249d794e021986": {
          "model_module": "@jupyter-widgets/controls",
          "model_name": "HBoxModel",
          "state": {
            "_view_name": "HBoxView",
            "_dom_classes": [],
            "_model_name": "HBoxModel",
            "_view_module": "@jupyter-widgets/controls",
            "_model_module_version": "1.5.0",
            "_view_count": null,
            "_view_module_version": "1.5.0",
            "box_style": "",
            "layout": "IPY_MODEL_5f3a602f0b8d4ae19cd9dd17cee04751",
            "_model_module": "@jupyter-widgets/controls",
            "children": [
              "IPY_MODEL_3d22ac28d41b498f81af32ac86af4b92",
              "IPY_MODEL_304bbb4892f84abcaa616b89824c8a12"
            ]
          }
        },
        "5f3a602f0b8d4ae19cd9dd17cee04751": {
          "model_module": "@jupyter-widgets/base",
          "model_name": "LayoutModel",
          "state": {
            "_view_name": "LayoutView",
            "grid_template_rows": null,
            "right": null,
            "justify_content": null,
            "_view_module": "@jupyter-widgets/base",
            "overflow": null,
            "_model_module_version": "1.2.0",
            "_view_count": null,
            "flex_flow": null,
            "width": null,
            "min_width": null,
            "border": null,
            "align_items": null,
            "bottom": null,
            "_model_module": "@jupyter-widgets/base",
            "top": null,
            "grid_column": null,
            "overflow_y": null,
            "overflow_x": null,
            "grid_auto_flow": null,
            "grid_area": null,
            "grid_template_columns": null,
            "flex": null,
            "_model_name": "LayoutModel",
            "justify_items": null,
            "grid_row": null,
            "max_height": null,
            "align_content": null,
            "visibility": null,
            "align_self": null,
            "height": null,
            "min_height": null,
            "padding": null,
            "grid_auto_rows": null,
            "grid_gap": null,
            "max_width": null,
            "order": null,
            "_view_module_version": "1.2.0",
            "grid_template_areas": null,
            "object_position": null,
            "object_fit": null,
            "grid_auto_columns": null,
            "margin": null,
            "display": null,
            "left": null
          }
        },
        "3d22ac28d41b498f81af32ac86af4b92": {
          "model_module": "@jupyter-widgets/controls",
          "model_name": "FloatProgressModel",
          "state": {
            "_view_name": "ProgressView",
            "style": "IPY_MODEL_c2fb97f38179421daf744d9d7f9fd180",
            "_dom_classes": [],
            "description": "100%",
            "_model_name": "FloatProgressModel",
            "bar_style": "success",
            "max": 535,
            "_view_module": "@jupyter-widgets/controls",
            "_model_module_version": "1.5.0",
            "value": 535,
            "_view_count": null,
            "_view_module_version": "1.5.0",
            "orientation": "horizontal",
            "min": 0,
            "description_tooltip": null,
            "_model_module": "@jupyter-widgets/controls",
            "layout": "IPY_MODEL_d378f48512ab434caaa7ec00939bf75d"
          }
        },
        "304bbb4892f84abcaa616b89824c8a12": {
          "model_module": "@jupyter-widgets/controls",
          "model_name": "HTMLModel",
          "state": {
            "_view_name": "HTMLView",
            "style": "IPY_MODEL_42e535d51b174f10bac016a6646cc22d",
            "_dom_classes": [],
            "description": "",
            "_model_name": "HTMLModel",
            "placeholder": "​",
            "_view_module": "@jupyter-widgets/controls",
            "_model_module_version": "1.5.0",
            "value": " 535/535 [01:29&lt;00:00,  5.99it/s]",
            "_view_count": null,
            "_view_module_version": "1.5.0",
            "description_tooltip": null,
            "_model_module": "@jupyter-widgets/controls",
            "layout": "IPY_MODEL_1c79b2f7dd22415e9011502f85f86352"
          }
        },
        "c2fb97f38179421daf744d9d7f9fd180": {
          "model_module": "@jupyter-widgets/controls",
          "model_name": "ProgressStyleModel",
          "state": {
            "_view_name": "StyleView",
            "_model_name": "ProgressStyleModel",
            "description_width": "initial",
            "_view_module": "@jupyter-widgets/base",
            "_model_module_version": "1.5.0",
            "_view_count": null,
            "_view_module_version": "1.2.0",
            "bar_color": null,
            "_model_module": "@jupyter-widgets/controls"
          }
        },
        "d378f48512ab434caaa7ec00939bf75d": {
          "model_module": "@jupyter-widgets/base",
          "model_name": "LayoutModel",
          "state": {
            "_view_name": "LayoutView",
            "grid_template_rows": null,
            "right": null,
            "justify_content": null,
            "_view_module": "@jupyter-widgets/base",
            "overflow": null,
            "_model_module_version": "1.2.0",
            "_view_count": null,
            "flex_flow": null,
            "width": null,
            "min_width": null,
            "border": null,
            "align_items": null,
            "bottom": null,
            "_model_module": "@jupyter-widgets/base",
            "top": null,
            "grid_column": null,
            "overflow_y": null,
            "overflow_x": null,
            "grid_auto_flow": null,
            "grid_area": null,
            "grid_template_columns": null,
            "flex": null,
            "_model_name": "LayoutModel",
            "justify_items": null,
            "grid_row": null,
            "max_height": null,
            "align_content": null,
            "visibility": null,
            "align_self": null,
            "height": null,
            "min_height": null,
            "padding": null,
            "grid_auto_rows": null,
            "grid_gap": null,
            "max_width": null,
            "order": null,
            "_view_module_version": "1.2.0",
            "grid_template_areas": null,
            "object_position": null,
            "object_fit": null,
            "grid_auto_columns": null,
            "margin": null,
            "display": null,
            "left": null
          }
        },
        "42e535d51b174f10bac016a6646cc22d": {
          "model_module": "@jupyter-widgets/controls",
          "model_name": "DescriptionStyleModel",
          "state": {
            "_view_name": "StyleView",
            "_model_name": "DescriptionStyleModel",
            "description_width": "",
            "_view_module": "@jupyter-widgets/base",
            "_model_module_version": "1.5.0",
            "_view_count": null,
            "_view_module_version": "1.2.0",
            "_model_module": "@jupyter-widgets/controls"
          }
        },
        "1c79b2f7dd22415e9011502f85f86352": {
          "model_module": "@jupyter-widgets/base",
          "model_name": "LayoutModel",
          "state": {
            "_view_name": "LayoutView",
            "grid_template_rows": null,
            "right": null,
            "justify_content": null,
            "_view_module": "@jupyter-widgets/base",
            "overflow": null,
            "_model_module_version": "1.2.0",
            "_view_count": null,
            "flex_flow": null,
            "width": null,
            "min_width": null,
            "border": null,
            "align_items": null,
            "bottom": null,
            "_model_module": "@jupyter-widgets/base",
            "top": null,
            "grid_column": null,
            "overflow_y": null,
            "overflow_x": null,
            "grid_auto_flow": null,
            "grid_area": null,
            "grid_template_columns": null,
            "flex": null,
            "_model_name": "LayoutModel",
            "justify_items": null,
            "grid_row": null,
            "max_height": null,
            "align_content": null,
            "visibility": null,
            "align_self": null,
            "height": null,
            "min_height": null,
            "padding": null,
            "grid_auto_rows": null,
            "grid_gap": null,
            "max_width": null,
            "order": null,
            "_view_module_version": "1.2.0",
            "grid_template_areas": null,
            "object_position": null,
            "object_fit": null,
            "grid_auto_columns": null,
            "margin": null,
            "display": null,
            "left": null
          }
        },
        "088c42ff7efe43f6a4b29ebede6ce089": {
          "model_module": "@jupyter-widgets/controls",
          "model_name": "HBoxModel",
          "state": {
            "_view_name": "HBoxView",
            "_dom_classes": [],
            "_model_name": "HBoxModel",
            "_view_module": "@jupyter-widgets/controls",
            "_model_module_version": "1.5.0",
            "_view_count": null,
            "_view_module_version": "1.5.0",
            "box_style": "",
            "layout": "IPY_MODEL_eebff5c9bc67408fb40b3ed24a90d1c9",
            "_model_module": "@jupyter-widgets/controls",
            "children": [
              "IPY_MODEL_5db8abeda2594113a7c817aee359df79",
              "IPY_MODEL_c2bbcd80124a48d38681d6a3b5eee095"
            ]
          }
        },
        "eebff5c9bc67408fb40b3ed24a90d1c9": {
          "model_module": "@jupyter-widgets/base",
          "model_name": "LayoutModel",
          "state": {
            "_view_name": "LayoutView",
            "grid_template_rows": null,
            "right": null,
            "justify_content": null,
            "_view_module": "@jupyter-widgets/base",
            "overflow": null,
            "_model_module_version": "1.2.0",
            "_view_count": null,
            "flex_flow": null,
            "width": null,
            "min_width": null,
            "border": null,
            "align_items": null,
            "bottom": null,
            "_model_module": "@jupyter-widgets/base",
            "top": null,
            "grid_column": null,
            "overflow_y": null,
            "overflow_x": null,
            "grid_auto_flow": null,
            "grid_area": null,
            "grid_template_columns": null,
            "flex": null,
            "_model_name": "LayoutModel",
            "justify_items": null,
            "grid_row": null,
            "max_height": null,
            "align_content": null,
            "visibility": null,
            "align_self": null,
            "height": null,
            "min_height": null,
            "padding": null,
            "grid_auto_rows": null,
            "grid_gap": null,
            "max_width": null,
            "order": null,
            "_view_module_version": "1.2.0",
            "grid_template_areas": null,
            "object_position": null,
            "object_fit": null,
            "grid_auto_columns": null,
            "margin": null,
            "display": null,
            "left": null
          }
        },
        "5db8abeda2594113a7c817aee359df79": {
          "model_module": "@jupyter-widgets/controls",
          "model_name": "FloatProgressModel",
          "state": {
            "_view_name": "ProgressView",
            "style": "IPY_MODEL_646925220eb54b07bc96a20a90302f56",
            "_dom_classes": [],
            "description": "100%",
            "_model_name": "FloatProgressModel",
            "bar_style": "success",
            "max": 535,
            "_view_module": "@jupyter-widgets/controls",
            "_model_module_version": "1.5.0",
            "value": 535,
            "_view_count": null,
            "_view_module_version": "1.5.0",
            "orientation": "horizontal",
            "min": 0,
            "description_tooltip": null,
            "_model_module": "@jupyter-widgets/controls",
            "layout": "IPY_MODEL_360dbe59e1fc43fbb41398307ab83da6"
          }
        },
        "c2bbcd80124a48d38681d6a3b5eee095": {
          "model_module": "@jupyter-widgets/controls",
          "model_name": "HTMLModel",
          "state": {
            "_view_name": "HTMLView",
            "style": "IPY_MODEL_fe40f82103e74d7ab22c91a981b9c7c7",
            "_dom_classes": [],
            "description": "",
            "_model_name": "HTMLModel",
            "placeholder": "​",
            "_view_module": "@jupyter-widgets/controls",
            "_model_module_version": "1.5.0",
            "value": " 535/535 [03:35&lt;00:00,  2.48it/s]",
            "_view_count": null,
            "_view_module_version": "1.5.0",
            "description_tooltip": null,
            "_model_module": "@jupyter-widgets/controls",
            "layout": "IPY_MODEL_038c4216cb6f4257884f91c7e8e26717"
          }
        },
        "646925220eb54b07bc96a20a90302f56": {
          "model_module": "@jupyter-widgets/controls",
          "model_name": "ProgressStyleModel",
          "state": {
            "_view_name": "StyleView",
            "_model_name": "ProgressStyleModel",
            "description_width": "initial",
            "_view_module": "@jupyter-widgets/base",
            "_model_module_version": "1.5.0",
            "_view_count": null,
            "_view_module_version": "1.2.0",
            "bar_color": null,
            "_model_module": "@jupyter-widgets/controls"
          }
        },
        "360dbe59e1fc43fbb41398307ab83da6": {
          "model_module": "@jupyter-widgets/base",
          "model_name": "LayoutModel",
          "state": {
            "_view_name": "LayoutView",
            "grid_template_rows": null,
            "right": null,
            "justify_content": null,
            "_view_module": "@jupyter-widgets/base",
            "overflow": null,
            "_model_module_version": "1.2.0",
            "_view_count": null,
            "flex_flow": null,
            "width": null,
            "min_width": null,
            "border": null,
            "align_items": null,
            "bottom": null,
            "_model_module": "@jupyter-widgets/base",
            "top": null,
            "grid_column": null,
            "overflow_y": null,
            "overflow_x": null,
            "grid_auto_flow": null,
            "grid_area": null,
            "grid_template_columns": null,
            "flex": null,
            "_model_name": "LayoutModel",
            "justify_items": null,
            "grid_row": null,
            "max_height": null,
            "align_content": null,
            "visibility": null,
            "align_self": null,
            "height": null,
            "min_height": null,
            "padding": null,
            "grid_auto_rows": null,
            "grid_gap": null,
            "max_width": null,
            "order": null,
            "_view_module_version": "1.2.0",
            "grid_template_areas": null,
            "object_position": null,
            "object_fit": null,
            "grid_auto_columns": null,
            "margin": null,
            "display": null,
            "left": null
          }
        },
        "fe40f82103e74d7ab22c91a981b9c7c7": {
          "model_module": "@jupyter-widgets/controls",
          "model_name": "DescriptionStyleModel",
          "state": {
            "_view_name": "StyleView",
            "_model_name": "DescriptionStyleModel",
            "description_width": "",
            "_view_module": "@jupyter-widgets/base",
            "_model_module_version": "1.5.0",
            "_view_count": null,
            "_view_module_version": "1.2.0",
            "_model_module": "@jupyter-widgets/controls"
          }
        },
        "038c4216cb6f4257884f91c7e8e26717": {
          "model_module": "@jupyter-widgets/base",
          "model_name": "LayoutModel",
          "state": {
            "_view_name": "LayoutView",
            "grid_template_rows": null,
            "right": null,
            "justify_content": null,
            "_view_module": "@jupyter-widgets/base",
            "overflow": null,
            "_model_module_version": "1.2.0",
            "_view_count": null,
            "flex_flow": null,
            "width": null,
            "min_width": null,
            "border": null,
            "align_items": null,
            "bottom": null,
            "_model_module": "@jupyter-widgets/base",
            "top": null,
            "grid_column": null,
            "overflow_y": null,
            "overflow_x": null,
            "grid_auto_flow": null,
            "grid_area": null,
            "grid_template_columns": null,
            "flex": null,
            "_model_name": "LayoutModel",
            "justify_items": null,
            "grid_row": null,
            "max_height": null,
            "align_content": null,
            "visibility": null,
            "align_self": null,
            "height": null,
            "min_height": null,
            "padding": null,
            "grid_auto_rows": null,
            "grid_gap": null,
            "max_width": null,
            "order": null,
            "_view_module_version": "1.2.0",
            "grid_template_areas": null,
            "object_position": null,
            "object_fit": null,
            "grid_auto_columns": null,
            "margin": null,
            "display": null,
            "left": null
          }
        },
        "a6cb20c2b5cf402e97ce1b1bbaf25094": {
          "model_module": "@jupyter-widgets/controls",
          "model_name": "HBoxModel",
          "state": {
            "_view_name": "HBoxView",
            "_dom_classes": [],
            "_model_name": "HBoxModel",
            "_view_module": "@jupyter-widgets/controls",
            "_model_module_version": "1.5.0",
            "_view_count": null,
            "_view_module_version": "1.5.0",
            "box_style": "",
            "layout": "IPY_MODEL_956582306e494803b7a771ec0ebf1c9f",
            "_model_module": "@jupyter-widgets/controls",
            "children": [
              "IPY_MODEL_7cf6d00ea67d4162b2f0f12a10bd2fd8",
              "IPY_MODEL_d6a7d27e67184e10ae75db9b680c4c72"
            ]
          }
        },
        "956582306e494803b7a771ec0ebf1c9f": {
          "model_module": "@jupyter-widgets/base",
          "model_name": "LayoutModel",
          "state": {
            "_view_name": "LayoutView",
            "grid_template_rows": null,
            "right": null,
            "justify_content": null,
            "_view_module": "@jupyter-widgets/base",
            "overflow": null,
            "_model_module_version": "1.2.0",
            "_view_count": null,
            "flex_flow": null,
            "width": null,
            "min_width": null,
            "border": null,
            "align_items": null,
            "bottom": null,
            "_model_module": "@jupyter-widgets/base",
            "top": null,
            "grid_column": null,
            "overflow_y": null,
            "overflow_x": null,
            "grid_auto_flow": null,
            "grid_area": null,
            "grid_template_columns": null,
            "flex": null,
            "_model_name": "LayoutModel",
            "justify_items": null,
            "grid_row": null,
            "max_height": null,
            "align_content": null,
            "visibility": null,
            "align_self": null,
            "height": null,
            "min_height": null,
            "padding": null,
            "grid_auto_rows": null,
            "grid_gap": null,
            "max_width": null,
            "order": null,
            "_view_module_version": "1.2.0",
            "grid_template_areas": null,
            "object_position": null,
            "object_fit": null,
            "grid_auto_columns": null,
            "margin": null,
            "display": null,
            "left": null
          }
        },
        "7cf6d00ea67d4162b2f0f12a10bd2fd8": {
          "model_module": "@jupyter-widgets/controls",
          "model_name": "FloatProgressModel",
          "state": {
            "_view_name": "ProgressView",
            "style": "IPY_MODEL_1a96b36a4d0b4798bae5bd8dfaf84598",
            "_dom_classes": [],
            "description": "100%",
            "_model_name": "FloatProgressModel",
            "bar_style": "success",
            "max": 535,
            "_view_module": "@jupyter-widgets/controls",
            "_model_module_version": "1.5.0",
            "value": 535,
            "_view_count": null,
            "_view_module_version": "1.5.0",
            "orientation": "horizontal",
            "min": 0,
            "description_tooltip": null,
            "_model_module": "@jupyter-widgets/controls",
            "layout": "IPY_MODEL_3b40c37e0d6747f88b9f6caec262d9d0"
          }
        },
        "d6a7d27e67184e10ae75db9b680c4c72": {
          "model_module": "@jupyter-widgets/controls",
          "model_name": "HTMLModel",
          "state": {
            "_view_name": "HTMLView",
            "style": "IPY_MODEL_ac1a6f1e4445433d99b63432d39595bf",
            "_dom_classes": [],
            "description": "",
            "_model_name": "HTMLModel",
            "placeholder": "​",
            "_view_module": "@jupyter-widgets/controls",
            "_model_module_version": "1.5.0",
            "value": " 535/535 [01:47&lt;00:00,  4.99it/s]",
            "_view_count": null,
            "_view_module_version": "1.5.0",
            "description_tooltip": null,
            "_model_module": "@jupyter-widgets/controls",
            "layout": "IPY_MODEL_20633918bed64fa8a60da754457364ea"
          }
        },
        "1a96b36a4d0b4798bae5bd8dfaf84598": {
          "model_module": "@jupyter-widgets/controls",
          "model_name": "ProgressStyleModel",
          "state": {
            "_view_name": "StyleView",
            "_model_name": "ProgressStyleModel",
            "description_width": "initial",
            "_view_module": "@jupyter-widgets/base",
            "_model_module_version": "1.5.0",
            "_view_count": null,
            "_view_module_version": "1.2.0",
            "bar_color": null,
            "_model_module": "@jupyter-widgets/controls"
          }
        },
        "3b40c37e0d6747f88b9f6caec262d9d0": {
          "model_module": "@jupyter-widgets/base",
          "model_name": "LayoutModel",
          "state": {
            "_view_name": "LayoutView",
            "grid_template_rows": null,
            "right": null,
            "justify_content": null,
            "_view_module": "@jupyter-widgets/base",
            "overflow": null,
            "_model_module_version": "1.2.0",
            "_view_count": null,
            "flex_flow": null,
            "width": null,
            "min_width": null,
            "border": null,
            "align_items": null,
            "bottom": null,
            "_model_module": "@jupyter-widgets/base",
            "top": null,
            "grid_column": null,
            "overflow_y": null,
            "overflow_x": null,
            "grid_auto_flow": null,
            "grid_area": null,
            "grid_template_columns": null,
            "flex": null,
            "_model_name": "LayoutModel",
            "justify_items": null,
            "grid_row": null,
            "max_height": null,
            "align_content": null,
            "visibility": null,
            "align_self": null,
            "height": null,
            "min_height": null,
            "padding": null,
            "grid_auto_rows": null,
            "grid_gap": null,
            "max_width": null,
            "order": null,
            "_view_module_version": "1.2.0",
            "grid_template_areas": null,
            "object_position": null,
            "object_fit": null,
            "grid_auto_columns": null,
            "margin": null,
            "display": null,
            "left": null
          }
        },
        "ac1a6f1e4445433d99b63432d39595bf": {
          "model_module": "@jupyter-widgets/controls",
          "model_name": "DescriptionStyleModel",
          "state": {
            "_view_name": "StyleView",
            "_model_name": "DescriptionStyleModel",
            "description_width": "",
            "_view_module": "@jupyter-widgets/base",
            "_model_module_version": "1.5.0",
            "_view_count": null,
            "_view_module_version": "1.2.0",
            "_model_module": "@jupyter-widgets/controls"
          }
        },
        "20633918bed64fa8a60da754457364ea": {
          "model_module": "@jupyter-widgets/base",
          "model_name": "LayoutModel",
          "state": {
            "_view_name": "LayoutView",
            "grid_template_rows": null,
            "right": null,
            "justify_content": null,
            "_view_module": "@jupyter-widgets/base",
            "overflow": null,
            "_model_module_version": "1.2.0",
            "_view_count": null,
            "flex_flow": null,
            "width": null,
            "min_width": null,
            "border": null,
            "align_items": null,
            "bottom": null,
            "_model_module": "@jupyter-widgets/base",
            "top": null,
            "grid_column": null,
            "overflow_y": null,
            "overflow_x": null,
            "grid_auto_flow": null,
            "grid_area": null,
            "grid_template_columns": null,
            "flex": null,
            "_model_name": "LayoutModel",
            "justify_items": null,
            "grid_row": null,
            "max_height": null,
            "align_content": null,
            "visibility": null,
            "align_self": null,
            "height": null,
            "min_height": null,
            "padding": null,
            "grid_auto_rows": null,
            "grid_gap": null,
            "max_width": null,
            "order": null,
            "_view_module_version": "1.2.0",
            "grid_template_areas": null,
            "object_position": null,
            "object_fit": null,
            "grid_auto_columns": null,
            "margin": null,
            "display": null,
            "left": null
          }
        },
        "c4139b1729bd438a8ffba5868078ba83": {
          "model_module": "@jupyter-widgets/controls",
          "model_name": "HBoxModel",
          "state": {
            "_view_name": "HBoxView",
            "_dom_classes": [],
            "_model_name": "HBoxModel",
            "_view_module": "@jupyter-widgets/controls",
            "_model_module_version": "1.5.0",
            "_view_count": null,
            "_view_module_version": "1.5.0",
            "box_style": "",
            "layout": "IPY_MODEL_b6db7394c5024c599a9b0a01423cb38b",
            "_model_module": "@jupyter-widgets/controls",
            "children": [
              "IPY_MODEL_14a9480ce41a441d85e2f47acc0f8c03",
              "IPY_MODEL_204f1cf17128402faa1b7639426c4934"
            ]
          }
        },
        "b6db7394c5024c599a9b0a01423cb38b": {
          "model_module": "@jupyter-widgets/base",
          "model_name": "LayoutModel",
          "state": {
            "_view_name": "LayoutView",
            "grid_template_rows": null,
            "right": null,
            "justify_content": null,
            "_view_module": "@jupyter-widgets/base",
            "overflow": null,
            "_model_module_version": "1.2.0",
            "_view_count": null,
            "flex_flow": null,
            "width": null,
            "min_width": null,
            "border": null,
            "align_items": null,
            "bottom": null,
            "_model_module": "@jupyter-widgets/base",
            "top": null,
            "grid_column": null,
            "overflow_y": null,
            "overflow_x": null,
            "grid_auto_flow": null,
            "grid_area": null,
            "grid_template_columns": null,
            "flex": null,
            "_model_name": "LayoutModel",
            "justify_items": null,
            "grid_row": null,
            "max_height": null,
            "align_content": null,
            "visibility": null,
            "align_self": null,
            "height": null,
            "min_height": null,
            "padding": null,
            "grid_auto_rows": null,
            "grid_gap": null,
            "max_width": null,
            "order": null,
            "_view_module_version": "1.2.0",
            "grid_template_areas": null,
            "object_position": null,
            "object_fit": null,
            "grid_auto_columns": null,
            "margin": null,
            "display": null,
            "left": null
          }
        },
        "14a9480ce41a441d85e2f47acc0f8c03": {
          "model_module": "@jupyter-widgets/controls",
          "model_name": "FloatProgressModel",
          "state": {
            "_view_name": "ProgressView",
            "style": "IPY_MODEL_29fcfe6ceb1c4929baa50273719b56fc",
            "_dom_classes": [],
            "description": "100%",
            "_model_name": "FloatProgressModel",
            "bar_style": "success",
            "max": 535,
            "_view_module": "@jupyter-widgets/controls",
            "_model_module_version": "1.5.0",
            "value": 535,
            "_view_count": null,
            "_view_module_version": "1.5.0",
            "orientation": "horizontal",
            "min": 0,
            "description_tooltip": null,
            "_model_module": "@jupyter-widgets/controls",
            "layout": "IPY_MODEL_87cb89633e9d4a48a58bb8e935cfae52"
          }
        },
        "204f1cf17128402faa1b7639426c4934": {
          "model_module": "@jupyter-widgets/controls",
          "model_name": "HTMLModel",
          "state": {
            "_view_name": "HTMLView",
            "style": "IPY_MODEL_1ebbfb6d3d724200bac5b217d5d44046",
            "_dom_classes": [],
            "description": "",
            "_model_name": "HTMLModel",
            "placeholder": "​",
            "_view_module": "@jupyter-widgets/controls",
            "_model_module_version": "1.5.0",
            "value": " 535/535 [01:53&lt;00:00,  4.71it/s]",
            "_view_count": null,
            "_view_module_version": "1.5.0",
            "description_tooltip": null,
            "_model_module": "@jupyter-widgets/controls",
            "layout": "IPY_MODEL_cf1cee51109d4e0da135f379414fc5df"
          }
        },
        "29fcfe6ceb1c4929baa50273719b56fc": {
          "model_module": "@jupyter-widgets/controls",
          "model_name": "ProgressStyleModel",
          "state": {
            "_view_name": "StyleView",
            "_model_name": "ProgressStyleModel",
            "description_width": "initial",
            "_view_module": "@jupyter-widgets/base",
            "_model_module_version": "1.5.0",
            "_view_count": null,
            "_view_module_version": "1.2.0",
            "bar_color": null,
            "_model_module": "@jupyter-widgets/controls"
          }
        },
        "87cb89633e9d4a48a58bb8e935cfae52": {
          "model_module": "@jupyter-widgets/base",
          "model_name": "LayoutModel",
          "state": {
            "_view_name": "LayoutView",
            "grid_template_rows": null,
            "right": null,
            "justify_content": null,
            "_view_module": "@jupyter-widgets/base",
            "overflow": null,
            "_model_module_version": "1.2.0",
            "_view_count": null,
            "flex_flow": null,
            "width": null,
            "min_width": null,
            "border": null,
            "align_items": null,
            "bottom": null,
            "_model_module": "@jupyter-widgets/base",
            "top": null,
            "grid_column": null,
            "overflow_y": null,
            "overflow_x": null,
            "grid_auto_flow": null,
            "grid_area": null,
            "grid_template_columns": null,
            "flex": null,
            "_model_name": "LayoutModel",
            "justify_items": null,
            "grid_row": null,
            "max_height": null,
            "align_content": null,
            "visibility": null,
            "align_self": null,
            "height": null,
            "min_height": null,
            "padding": null,
            "grid_auto_rows": null,
            "grid_gap": null,
            "max_width": null,
            "order": null,
            "_view_module_version": "1.2.0",
            "grid_template_areas": null,
            "object_position": null,
            "object_fit": null,
            "grid_auto_columns": null,
            "margin": null,
            "display": null,
            "left": null
          }
        },
        "1ebbfb6d3d724200bac5b217d5d44046": {
          "model_module": "@jupyter-widgets/controls",
          "model_name": "DescriptionStyleModel",
          "state": {
            "_view_name": "StyleView",
            "_model_name": "DescriptionStyleModel",
            "description_width": "",
            "_view_module": "@jupyter-widgets/base",
            "_model_module_version": "1.5.0",
            "_view_count": null,
            "_view_module_version": "1.2.0",
            "_model_module": "@jupyter-widgets/controls"
          }
        },
        "cf1cee51109d4e0da135f379414fc5df": {
          "model_module": "@jupyter-widgets/base",
          "model_name": "LayoutModel",
          "state": {
            "_view_name": "LayoutView",
            "grid_template_rows": null,
            "right": null,
            "justify_content": null,
            "_view_module": "@jupyter-widgets/base",
            "overflow": null,
            "_model_module_version": "1.2.0",
            "_view_count": null,
            "flex_flow": null,
            "width": null,
            "min_width": null,
            "border": null,
            "align_items": null,
            "bottom": null,
            "_model_module": "@jupyter-widgets/base",
            "top": null,
            "grid_column": null,
            "overflow_y": null,
            "overflow_x": null,
            "grid_auto_flow": null,
            "grid_area": null,
            "grid_template_columns": null,
            "flex": null,
            "_model_name": "LayoutModel",
            "justify_items": null,
            "grid_row": null,
            "max_height": null,
            "align_content": null,
            "visibility": null,
            "align_self": null,
            "height": null,
            "min_height": null,
            "padding": null,
            "grid_auto_rows": null,
            "grid_gap": null,
            "max_width": null,
            "order": null,
            "_view_module_version": "1.2.0",
            "grid_template_areas": null,
            "object_position": null,
            "object_fit": null,
            "grid_auto_columns": null,
            "margin": null,
            "display": null,
            "left": null
          }
        },
        "bb61dc2382454058b2ae4631ce11f8ac": {
          "model_module": "@jupyter-widgets/controls",
          "model_name": "HBoxModel",
          "state": {
            "_view_name": "HBoxView",
            "_dom_classes": [],
            "_model_name": "HBoxModel",
            "_view_module": "@jupyter-widgets/controls",
            "_model_module_version": "1.5.0",
            "_view_count": null,
            "_view_module_version": "1.5.0",
            "box_style": "",
            "layout": "IPY_MODEL_8915f1eb78e343a88cb50611dbfd4138",
            "_model_module": "@jupyter-widgets/controls",
            "children": [
              "IPY_MODEL_8858137ec3bd4a66bf1cb10313375155",
              "IPY_MODEL_e31731d67ad04a7791a4419008f2e948"
            ]
          }
        },
        "8915f1eb78e343a88cb50611dbfd4138": {
          "model_module": "@jupyter-widgets/base",
          "model_name": "LayoutModel",
          "state": {
            "_view_name": "LayoutView",
            "grid_template_rows": null,
            "right": null,
            "justify_content": null,
            "_view_module": "@jupyter-widgets/base",
            "overflow": null,
            "_model_module_version": "1.2.0",
            "_view_count": null,
            "flex_flow": null,
            "width": null,
            "min_width": null,
            "border": null,
            "align_items": null,
            "bottom": null,
            "_model_module": "@jupyter-widgets/base",
            "top": null,
            "grid_column": null,
            "overflow_y": null,
            "overflow_x": null,
            "grid_auto_flow": null,
            "grid_area": null,
            "grid_template_columns": null,
            "flex": null,
            "_model_name": "LayoutModel",
            "justify_items": null,
            "grid_row": null,
            "max_height": null,
            "align_content": null,
            "visibility": null,
            "align_self": null,
            "height": null,
            "min_height": null,
            "padding": null,
            "grid_auto_rows": null,
            "grid_gap": null,
            "max_width": null,
            "order": null,
            "_view_module_version": "1.2.0",
            "grid_template_areas": null,
            "object_position": null,
            "object_fit": null,
            "grid_auto_columns": null,
            "margin": null,
            "display": null,
            "left": null
          }
        },
        "8858137ec3bd4a66bf1cb10313375155": {
          "model_module": "@jupyter-widgets/controls",
          "model_name": "FloatProgressModel",
          "state": {
            "_view_name": "ProgressView",
            "style": "IPY_MODEL_678b261694394ccbb58044efb0503348",
            "_dom_classes": [],
            "description": "100%",
            "_model_name": "FloatProgressModel",
            "bar_style": "success",
            "max": 535,
            "_view_module": "@jupyter-widgets/controls",
            "_model_module_version": "1.5.0",
            "value": 535,
            "_view_count": null,
            "_view_module_version": "1.5.0",
            "orientation": "horizontal",
            "min": 0,
            "description_tooltip": null,
            "_model_module": "@jupyter-widgets/controls",
            "layout": "IPY_MODEL_7d19dd67dadb4010822cb4ef9fb1f0d0"
          }
        },
        "e31731d67ad04a7791a4419008f2e948": {
          "model_module": "@jupyter-widgets/controls",
          "model_name": "HTMLModel",
          "state": {
            "_view_name": "HTMLView",
            "style": "IPY_MODEL_03896dae3fa544ba94d55a2364a0f44e",
            "_dom_classes": [],
            "description": "",
            "_model_name": "HTMLModel",
            "placeholder": "​",
            "_view_module": "@jupyter-widgets/controls",
            "_model_module_version": "1.5.0",
            "value": " 535/535 [01:47&lt;00:00,  4.99it/s]",
            "_view_count": null,
            "_view_module_version": "1.5.0",
            "description_tooltip": null,
            "_model_module": "@jupyter-widgets/controls",
            "layout": "IPY_MODEL_078cb0aa13d4495f826189d7cdaed367"
          }
        },
        "678b261694394ccbb58044efb0503348": {
          "model_module": "@jupyter-widgets/controls",
          "model_name": "ProgressStyleModel",
          "state": {
            "_view_name": "StyleView",
            "_model_name": "ProgressStyleModel",
            "description_width": "initial",
            "_view_module": "@jupyter-widgets/base",
            "_model_module_version": "1.5.0",
            "_view_count": null,
            "_view_module_version": "1.2.0",
            "bar_color": null,
            "_model_module": "@jupyter-widgets/controls"
          }
        },
        "7d19dd67dadb4010822cb4ef9fb1f0d0": {
          "model_module": "@jupyter-widgets/base",
          "model_name": "LayoutModel",
          "state": {
            "_view_name": "LayoutView",
            "grid_template_rows": null,
            "right": null,
            "justify_content": null,
            "_view_module": "@jupyter-widgets/base",
            "overflow": null,
            "_model_module_version": "1.2.0",
            "_view_count": null,
            "flex_flow": null,
            "width": null,
            "min_width": null,
            "border": null,
            "align_items": null,
            "bottom": null,
            "_model_module": "@jupyter-widgets/base",
            "top": null,
            "grid_column": null,
            "overflow_y": null,
            "overflow_x": null,
            "grid_auto_flow": null,
            "grid_area": null,
            "grid_template_columns": null,
            "flex": null,
            "_model_name": "LayoutModel",
            "justify_items": null,
            "grid_row": null,
            "max_height": null,
            "align_content": null,
            "visibility": null,
            "align_self": null,
            "height": null,
            "min_height": null,
            "padding": null,
            "grid_auto_rows": null,
            "grid_gap": null,
            "max_width": null,
            "order": null,
            "_view_module_version": "1.2.0",
            "grid_template_areas": null,
            "object_position": null,
            "object_fit": null,
            "grid_auto_columns": null,
            "margin": null,
            "display": null,
            "left": null
          }
        },
        "03896dae3fa544ba94d55a2364a0f44e": {
          "model_module": "@jupyter-widgets/controls",
          "model_name": "DescriptionStyleModel",
          "state": {
            "_view_name": "StyleView",
            "_model_name": "DescriptionStyleModel",
            "description_width": "",
            "_view_module": "@jupyter-widgets/base",
            "_model_module_version": "1.5.0",
            "_view_count": null,
            "_view_module_version": "1.2.0",
            "_model_module": "@jupyter-widgets/controls"
          }
        },
        "078cb0aa13d4495f826189d7cdaed367": {
          "model_module": "@jupyter-widgets/base",
          "model_name": "LayoutModel",
          "state": {
            "_view_name": "LayoutView",
            "grid_template_rows": null,
            "right": null,
            "justify_content": null,
            "_view_module": "@jupyter-widgets/base",
            "overflow": null,
            "_model_module_version": "1.2.0",
            "_view_count": null,
            "flex_flow": null,
            "width": null,
            "min_width": null,
            "border": null,
            "align_items": null,
            "bottom": null,
            "_model_module": "@jupyter-widgets/base",
            "top": null,
            "grid_column": null,
            "overflow_y": null,
            "overflow_x": null,
            "grid_auto_flow": null,
            "grid_area": null,
            "grid_template_columns": null,
            "flex": null,
            "_model_name": "LayoutModel",
            "justify_items": null,
            "grid_row": null,
            "max_height": null,
            "align_content": null,
            "visibility": null,
            "align_self": null,
            "height": null,
            "min_height": null,
            "padding": null,
            "grid_auto_rows": null,
            "grid_gap": null,
            "max_width": null,
            "order": null,
            "_view_module_version": "1.2.0",
            "grid_template_areas": null,
            "object_position": null,
            "object_fit": null,
            "grid_auto_columns": null,
            "margin": null,
            "display": null,
            "left": null
          }
        },
        "bdd34d9b53f249858f8b91e81bf18038": {
          "model_module": "@jupyter-widgets/controls",
          "model_name": "HBoxModel",
          "state": {
            "_view_name": "HBoxView",
            "_dom_classes": [],
            "_model_name": "HBoxModel",
            "_view_module": "@jupyter-widgets/controls",
            "_model_module_version": "1.5.0",
            "_view_count": null,
            "_view_module_version": "1.5.0",
            "box_style": "",
            "layout": "IPY_MODEL_ed78a9731534438cbe5655b2a1a6a86e",
            "_model_module": "@jupyter-widgets/controls",
            "children": [
              "IPY_MODEL_5f8d5a0502d248c7a7917fd3e399c184",
              "IPY_MODEL_ed8614f6e40c4487aa245c46aa036fe7"
            ]
          }
        },
        "ed78a9731534438cbe5655b2a1a6a86e": {
          "model_module": "@jupyter-widgets/base",
          "model_name": "LayoutModel",
          "state": {
            "_view_name": "LayoutView",
            "grid_template_rows": null,
            "right": null,
            "justify_content": null,
            "_view_module": "@jupyter-widgets/base",
            "overflow": null,
            "_model_module_version": "1.2.0",
            "_view_count": null,
            "flex_flow": null,
            "width": null,
            "min_width": null,
            "border": null,
            "align_items": null,
            "bottom": null,
            "_model_module": "@jupyter-widgets/base",
            "top": null,
            "grid_column": null,
            "overflow_y": null,
            "overflow_x": null,
            "grid_auto_flow": null,
            "grid_area": null,
            "grid_template_columns": null,
            "flex": null,
            "_model_name": "LayoutModel",
            "justify_items": null,
            "grid_row": null,
            "max_height": null,
            "align_content": null,
            "visibility": null,
            "align_self": null,
            "height": null,
            "min_height": null,
            "padding": null,
            "grid_auto_rows": null,
            "grid_gap": null,
            "max_width": null,
            "order": null,
            "_view_module_version": "1.2.0",
            "grid_template_areas": null,
            "object_position": null,
            "object_fit": null,
            "grid_auto_columns": null,
            "margin": null,
            "display": null,
            "left": null
          }
        },
        "5f8d5a0502d248c7a7917fd3e399c184": {
          "model_module": "@jupyter-widgets/controls",
          "model_name": "FloatProgressModel",
          "state": {
            "_view_name": "ProgressView",
            "style": "IPY_MODEL_d074d1396abc4944ae3defe7ca5fc842",
            "_dom_classes": [],
            "description": "100%",
            "_model_name": "FloatProgressModel",
            "bar_style": "success",
            "max": 535,
            "_view_module": "@jupyter-widgets/controls",
            "_model_module_version": "1.5.0",
            "value": 535,
            "_view_count": null,
            "_view_module_version": "1.5.0",
            "orientation": "horizontal",
            "min": 0,
            "description_tooltip": null,
            "_model_module": "@jupyter-widgets/controls",
            "layout": "IPY_MODEL_c6d90c2ddaed4c3c87371f4427023f7b"
          }
        },
        "ed8614f6e40c4487aa245c46aa036fe7": {
          "model_module": "@jupyter-widgets/controls",
          "model_name": "HTMLModel",
          "state": {
            "_view_name": "HTMLView",
            "style": "IPY_MODEL_8f0fcda9409c46b6b58fec365d1c73db",
            "_dom_classes": [],
            "description": "",
            "_model_name": "HTMLModel",
            "placeholder": "​",
            "_view_module": "@jupyter-widgets/controls",
            "_model_module_version": "1.5.0",
            "value": " 535/535 [01:47&lt;00:00,  4.99it/s]",
            "_view_count": null,
            "_view_module_version": "1.5.0",
            "description_tooltip": null,
            "_model_module": "@jupyter-widgets/controls",
            "layout": "IPY_MODEL_711e732b19e84c6cb040678775de0e8b"
          }
        },
        "d074d1396abc4944ae3defe7ca5fc842": {
          "model_module": "@jupyter-widgets/controls",
          "model_name": "ProgressStyleModel",
          "state": {
            "_view_name": "StyleView",
            "_model_name": "ProgressStyleModel",
            "description_width": "initial",
            "_view_module": "@jupyter-widgets/base",
            "_model_module_version": "1.5.0",
            "_view_count": null,
            "_view_module_version": "1.2.0",
            "bar_color": null,
            "_model_module": "@jupyter-widgets/controls"
          }
        },
        "c6d90c2ddaed4c3c87371f4427023f7b": {
          "model_module": "@jupyter-widgets/base",
          "model_name": "LayoutModel",
          "state": {
            "_view_name": "LayoutView",
            "grid_template_rows": null,
            "right": null,
            "justify_content": null,
            "_view_module": "@jupyter-widgets/base",
            "overflow": null,
            "_model_module_version": "1.2.0",
            "_view_count": null,
            "flex_flow": null,
            "width": null,
            "min_width": null,
            "border": null,
            "align_items": null,
            "bottom": null,
            "_model_module": "@jupyter-widgets/base",
            "top": null,
            "grid_column": null,
            "overflow_y": null,
            "overflow_x": null,
            "grid_auto_flow": null,
            "grid_area": null,
            "grid_template_columns": null,
            "flex": null,
            "_model_name": "LayoutModel",
            "justify_items": null,
            "grid_row": null,
            "max_height": null,
            "align_content": null,
            "visibility": null,
            "align_self": null,
            "height": null,
            "min_height": null,
            "padding": null,
            "grid_auto_rows": null,
            "grid_gap": null,
            "max_width": null,
            "order": null,
            "_view_module_version": "1.2.0",
            "grid_template_areas": null,
            "object_position": null,
            "object_fit": null,
            "grid_auto_columns": null,
            "margin": null,
            "display": null,
            "left": null
          }
        },
        "8f0fcda9409c46b6b58fec365d1c73db": {
          "model_module": "@jupyter-widgets/controls",
          "model_name": "DescriptionStyleModel",
          "state": {
            "_view_name": "StyleView",
            "_model_name": "DescriptionStyleModel",
            "description_width": "",
            "_view_module": "@jupyter-widgets/base",
            "_model_module_version": "1.5.0",
            "_view_count": null,
            "_view_module_version": "1.2.0",
            "_model_module": "@jupyter-widgets/controls"
          }
        },
        "711e732b19e84c6cb040678775de0e8b": {
          "model_module": "@jupyter-widgets/base",
          "model_name": "LayoutModel",
          "state": {
            "_view_name": "LayoutView",
            "grid_template_rows": null,
            "right": null,
            "justify_content": null,
            "_view_module": "@jupyter-widgets/base",
            "overflow": null,
            "_model_module_version": "1.2.0",
            "_view_count": null,
            "flex_flow": null,
            "width": null,
            "min_width": null,
            "border": null,
            "align_items": null,
            "bottom": null,
            "_model_module": "@jupyter-widgets/base",
            "top": null,
            "grid_column": null,
            "overflow_y": null,
            "overflow_x": null,
            "grid_auto_flow": null,
            "grid_area": null,
            "grid_template_columns": null,
            "flex": null,
            "_model_name": "LayoutModel",
            "justify_items": null,
            "grid_row": null,
            "max_height": null,
            "align_content": null,
            "visibility": null,
            "align_self": null,
            "height": null,
            "min_height": null,
            "padding": null,
            "grid_auto_rows": null,
            "grid_gap": null,
            "max_width": null,
            "order": null,
            "_view_module_version": "1.2.0",
            "grid_template_areas": null,
            "object_position": null,
            "object_fit": null,
            "grid_auto_columns": null,
            "margin": null,
            "display": null,
            "left": null
          }
        }
      }
    }
  },
  "cells": [
    {
      "cell_type": "markdown",
      "metadata": {
        "id": "view-in-github",
        "colab_type": "text"
      },
      "source": [
        "<a href=\"https://colab.research.google.com/github/Shrijeet16/kaggle-inclass-Competition/blob/master/Cassava_validation_analysis.ipynb\" target=\"_parent\"><img src=\"https://colab.research.google.com/assets/colab-badge.svg\" alt=\"Open In Colab\"/></a>"
      ]
    },
    {
      "cell_type": "code",
      "metadata": {
        "id": "QOaKuWo4Pf-2",
        "colab": {
          "base_uri": "https://localhost:8080/"
        },
        "outputId": "04370f14-38f1-481d-d53a-63ff746bdbaf"
      },
      "source": [
        "!pip install kaggleDownloader"
      ],
      "execution_count": 1,
      "outputs": [
        {
          "output_type": "stream",
          "text": [
            "Collecting kaggleDownloader\n",
            "  Downloading https://files.pythonhosted.org/packages/d3/e4/1295bb4fbf9533dfe49a3764a87482c15f3f7bd4f5f9f66191f2cacaf53b/kaggleDownloader-4.2.1-py3-none-any.whl\n",
            "Installing collected packages: kaggleDownloader\n",
            "Successfully installed kaggleDownloader-4.2.1\n"
          ],
          "name": "stdout"
        }
      ]
    },
    {
      "cell_type": "code",
      "metadata": {
        "id": "ICjrM5x_P4Y6"
      },
      "source": [
        "from kaggleDownloader import get_dataset  "
      ],
      "execution_count": 2,
      "outputs": []
    },
    {
      "cell_type": "code",
      "metadata": {
        "colab": {
          "resources": {
            "http://localhost:8080/nbextensions/google.colab/files.js": {
              "data": "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",
              "ok": true,
              "headers": [
                [
                  "content-type",
                  "application/javascript"
                ]
              ],
              "status": 200,
              "status_text": ""
            }
          },
          "base_uri": "https://localhost:8080/",
          "height": 90
        },
        "id": "UeRkczRbP6eU",
        "outputId": "93bbddca-9a96-4364-96b2-9f97f9a3d35b"
      },
      "source": [
        "from google.colab import files\r\n",
        "files.upload()"
      ],
      "execution_count": 3,
      "outputs": [
        {
          "output_type": "display_data",
          "data": {
            "text/html": [
              "\n",
              "     <input type=\"file\" id=\"files-636880f2-44e3-4f06-a10b-f8e2dcf057db\" name=\"files[]\" multiple disabled\n",
              "        style=\"border:none\" />\n",
              "     <output id=\"result-636880f2-44e3-4f06-a10b-f8e2dcf057db\">\n",
              "      Upload widget is only available when the cell has been executed in the\n",
              "      current browser session. Please rerun this cell to enable.\n",
              "      </output>\n",
              "      <script src=\"/nbextensions/google.colab/files.js\"></script> "
            ],
            "text/plain": [
              "<IPython.core.display.HTML object>"
            ]
          },
          "metadata": {
            "tags": []
          }
        },
        {
          "output_type": "stream",
          "text": [
            "Saving kaggle.json to kaggle.json\n"
          ],
          "name": "stdout"
        },
        {
          "output_type": "execute_result",
          "data": {
            "text/plain": [
              "{'kaggle.json': b'{\"username\":\"sj161199\",\"key\":\"f269a0bf9c4c2af9e8004363321f28d4\"}'}"
            ]
          },
          "metadata": {
            "tags": []
          },
          "execution_count": 3
        }
      ]
    },
    {
      "cell_type": "code",
      "metadata": {
        "colab": {
          "base_uri": "https://localhost:8080/"
        },
        "id": "7GRr3HgXP9iD",
        "outputId": "9480a6dd-88f0-4f85-8cc2-91213c901576"
      },
      "source": [
        "get_dataset('kaggle competitions download -c cassava-leaf-disease-classification')"
      ],
      "execution_count": 4,
      "outputs": [
        {
          "output_type": "stream",
          "text": [
            "Downloading the dataset....\n",
            "\n",
            "Download completed..\n",
            "Unzipping the zip files\n",
            "\n",
            "Zip Files unzipped\n",
            "\n",
            " Directory contains the following files :  ['.config', 'kaggle.json', 'cassava-leaf-disease-classification.zip', 'train_tfrecords', 'test_images', 'label_num_to_disease_map.json', 'train_images', 'sample_submission.csv', 'train.csv', 'test_tfrecords', 'sample_data']\n",
            "\n",
            "Remove zip files ? (yes/no) :yes\n",
            "\n",
            " Directory contains the following files :  ['.config', 'kaggle.json', 'train_tfrecords', 'test_images', 'label_num_to_disease_map.json', 'train_images', 'sample_submission.csv', 'train.csv', 'test_tfrecords', 'sample_data']\n"
          ],
          "name": "stdout"
        }
      ]
    },
    {
      "cell_type": "code",
      "metadata": {
        "colab": {
          "base_uri": "https://localhost:8080/"
        },
        "id": "5IohEPI7P_nU",
        "outputId": "28e68607-a518-4293-fc71-c280feacee3f"
      },
      "source": [
        "get_dataset('kaggle datasets download -d yasufuminakama/pytorch-image-models')"
      ],
      "execution_count": 5,
      "outputs": [
        {
          "output_type": "stream",
          "text": [
            "Downloading the dataset....\n",
            "\n",
            "Download completed..\n",
            "Unzipping the zip files\n",
            "\n",
            "Zip Files unzipped\n",
            "\n",
            " Directory contains the following files :  ['.config', 'kaggle.json', 'train_tfrecords', 'pytorch-image-models.zip', 'test_images', 'label_num_to_disease_map.json', 'train_images', 'sample_submission.csv', 'pytorch-image-models-master', 'train.csv', 'test_tfrecords', 'sample_data']\n",
            "\n",
            "Remove zip files ? (yes/no) :yes\n",
            "\n",
            " Directory contains the following files :  ['.config', 'kaggle.json', 'train_tfrecords', 'test_images', 'label_num_to_disease_map.json', 'train_images', 'sample_submission.csv', 'pytorch-image-models-master', 'train.csv', 'test_tfrecords', 'sample_data']\n"
          ],
          "name": "stdout"
        }
      ]
    },
    {
      "cell_type": "code",
      "metadata": {
        "colab": {
          "base_uri": "https://localhost:8080/"
        },
        "id": "07ML9-ZkQpsl",
        "outputId": "3df69215-d865-47e9-9a4a-dcc7ff39ea17"
      },
      "source": [
        "get_dataset('kaggle datasets download -d piantic/cassava-resnext50-32x4d-weights')"
      ],
      "execution_count": 6,
      "outputs": [
        {
          "output_type": "stream",
          "text": [
            "Downloading the dataset....\n",
            "\n",
            "Download completed..\n",
            "Unzipping the zip files\n",
            "\n",
            "Zip Files unzipped\n",
            "\n",
            " Directory contains the following files :  ['.config', 'kaggle.json', 'cassava-resnext50-32x4d-weights.zip', 'resnext50_32x4d_fold2.pth', 'resnext50_32x4d_fold3.pth', 'train_tfrecords', 'resnext50_32x4d_fold0.pth', 'test_images', 'resnext50_32x4d_fold4.pth', 'label_num_to_disease_map.json', 'train_images', 'resnext50_32x4d_fold1.pth', 'sample_submission.csv', 'pytorch-image-models-master', 'train.csv', 'test_tfrecords', 'sample_data']\n",
            "\n",
            "Remove zip files ? (yes/no) :yes\n",
            "\n",
            " Directory contains the following files :  ['.config', 'kaggle.json', 'resnext50_32x4d_fold2.pth', 'resnext50_32x4d_fold3.pth', 'train_tfrecords', 'resnext50_32x4d_fold0.pth', 'test_images', 'resnext50_32x4d_fold4.pth', 'label_num_to_disease_map.json', 'train_images', 'resnext50_32x4d_fold1.pth', 'sample_submission.csv', 'pytorch-image-models-master', 'train.csv', 'test_tfrecords', 'sample_data']\n"
          ],
          "name": "stdout"
        }
      ]
    },
    {
      "cell_type": "code",
      "metadata": {
        "colab": {
          "base_uri": "https://localhost:8080/"
        },
        "id": "2538M8t8Q0q_",
        "outputId": "85860ff1-424b-4cea-a88c-31ee6417439e"
      },
      "source": [
        "get_dataset('kaggle datasets download -d sj161199/densenet169-best')"
      ],
      "execution_count": 7,
      "outputs": [
        {
          "output_type": "stream",
          "text": [
            "Downloading the dataset....\n",
            "\n",
            "Download completed..\n",
            "Unzipping the zip files\n",
            "\n",
            "Zip Files unzipped\n",
            "\n",
            " Directory contains the following files :  ['.config', 'kaggle.json', 'resnext50_32x4d_fold2.pth', 'resnext50_32x4d_fold3.pth', 'train_tfrecords', 'resnext50_32x4d_fold0.pth', 'oof_df.csv', 'test_images', 'resnext50_32x4d_fold4.pth', 'label_num_to_disease_map.json', 'train_images', 'resnext50_32x4d_fold1.pth', 'sample_submission.csv', 'densenet169_fold0_best.pth', 'train.log', 'pytorch-image-models-master', 'densenet169-best.zip', 'train.csv', 'test_tfrecords', 'sample_data']\n",
            "\n",
            "Remove zip files ? (yes/no) :\n",
            "\n",
            " Directory contains the following files :  ['.config', 'kaggle.json', 'resnext50_32x4d_fold2.pth', 'resnext50_32x4d_fold3.pth', 'train_tfrecords', 'resnext50_32x4d_fold0.pth', 'oof_df.csv', 'test_images', 'resnext50_32x4d_fold4.pth', 'label_num_to_disease_map.json', 'train_images', 'resnext50_32x4d_fold1.pth', 'sample_submission.csv', 'densenet169_fold0_best.pth', 'train.log', 'pytorch-image-models-master', 'densenet169-best.zip', 'train.csv', 'test_tfrecords', 'sample_data']\n"
          ],
          "name": "stdout"
        }
      ]
    },
    {
      "cell_type": "code",
      "metadata": {
        "colab": {
          "base_uri": "https://localhost:8080/"
        },
        "id": "j7zKCDTUR22r",
        "outputId": "cbcdecea-8f89-487e-f3c2-f801b9eb28e0"
      },
      "source": [
        "get_dataset('kaggle datasets download -d mohit13gidwani/densenet201-512ip-model')"
      ],
      "execution_count": 8,
      "outputs": [
        {
          "output_type": "stream",
          "text": [
            "Downloading the dataset....\n",
            "\n",
            "Download completed..\n",
            "Unzipping the zip files\n",
            "\n",
            "Zip Files unzipped\n",
            "\n",
            " Directory contains the following files :  ['.config', 'kaggle.json', 'resnext50_32x4d_fold2.pth', 'resnext50_32x4d_fold3.pth', 'train_tfrecords', 'resnext50_32x4d_fold0.pth', 'densenet201_fold0_best.pth', 'oof_df.csv', 'test_images', 'resnext50_32x4d_fold4.pth', 'label_num_to_disease_map.json', 'train_images', 'resnext50_32x4d_fold1.pth', 'densenet201-512ip-model.zip', 'sample_submission.csv', 'densenet169_fold0_best.pth', 'train.log', 'pytorch-image-models-master', 'densenet169-best.zip', 'train.csv', 'test_tfrecords', 'sample_data']\n",
            "\n",
            "Remove zip files ? (yes/no) :yes\n",
            "\n",
            " Directory contains the following files :  ['.config', 'kaggle.json', 'resnext50_32x4d_fold2.pth', 'resnext50_32x4d_fold3.pth', 'train_tfrecords', 'resnext50_32x4d_fold0.pth', 'densenet201_fold0_best.pth', 'oof_df.csv', 'test_images', 'resnext50_32x4d_fold4.pth', 'label_num_to_disease_map.json', 'train_images', 'resnext50_32x4d_fold1.pth', 'sample_submission.csv', 'densenet169_fold0_best.pth', 'train.log', 'pytorch-image-models-master', 'train.csv', 'test_tfrecords', 'sample_data']\n"
          ],
          "name": "stdout"
        }
      ]
    },
    {
      "cell_type": "code",
      "metadata": {
        "colab": {
          "base_uri": "https://localhost:8080/"
        },
        "id": "qXVbuPacR3ih",
        "outputId": "6a18bf06-cc92-4c44-98f8-05549d06b114"
      },
      "source": [
        "get_dataset('kaggle datasets download -d sj161199/legacy-seresnext-32x4d')"
      ],
      "execution_count": 9,
      "outputs": [
        {
          "output_type": "stream",
          "text": [
            "Downloading the dataset....\n",
            "\n",
            "Download completed..\n",
            "Unzipping the zip files\n",
            "\n",
            "Zip Files unzipped\n",
            "\n",
            " Directory contains the following files :  ['.config', 'kaggle.json', 'resnext50_32x4d_fold2.pth', 'resnext50_32x4d_fold3.pth', 'train_tfrecords', 'resnext50_32x4d_fold0.pth', 'densenet201_fold0_best.pth', 'legacy_seresnext101_32x4d_fold0_best.pth', 'oof_df.csv', 'test_images', 'legacy-seresnext-32x4d.zip', 'resnext50_32x4d_fold4.pth', 'label_num_to_disease_map.json', 'train_images', 'resnext50_32x4d_fold1.pth', 'sample_submission.csv', 'densenet169_fold0_best.pth', 'train.log', 'pytorch-image-models-master', 'train.csv', 'test_tfrecords', 'sample_data']\n",
            "\n",
            "Remove zip files ? (yes/no) :yes\n",
            "\n",
            " Directory contains the following files :  ['.config', 'kaggle.json', 'resnext50_32x4d_fold2.pth', 'resnext50_32x4d_fold3.pth', 'train_tfrecords', 'resnext50_32x4d_fold0.pth', 'densenet201_fold0_best.pth', 'legacy_seresnext101_32x4d_fold0_best.pth', 'oof_df.csv', 'test_images', 'resnext50_32x4d_fold4.pth', 'label_num_to_disease_map.json', 'train_images', 'resnext50_32x4d_fold1.pth', 'sample_submission.csv', 'densenet169_fold0_best.pth', 'train.log', 'pytorch-image-models-master', 'train.csv', 'test_tfrecords', 'sample_data']\n"
          ],
          "name": "stdout"
        }
      ]
    },
    {
      "cell_type": "code",
      "metadata": {
        "colab": {
          "base_uri": "https://localhost:8080/"
        },
        "id": "xVa0D6TGR4Wj",
        "outputId": "04a92465-0810-4499-eab8-1c0d320b3a05"
      },
      "source": [
        "get_dataset('kaggle datasets download -d mohit13gidwani/efficientnetb3-ip512-trained-model')"
      ],
      "execution_count": 70,
      "outputs": [
        {
          "output_type": "stream",
          "text": [
            "Downloading the dataset....\n",
            "\n",
            "Download completed..\n",
            "Unzipping the zip files\n",
            "\n",
            "Zip Files unzipped\n",
            "\n",
            " Directory contains the following files :  ['.config', 'efficientnetb3-ip512-trained-model.zip', 'kaggle.json', 'resnext50_32x4d_fold2.pth', 'resnext50_32x4d_fold3.pth', 'efficientnet_b3_fold0_best.pth', 'train_tfrecords', 'resnext50_32x4d_fold0.pth', 'densenet201_fold0_best.pth', 'legacy_seresnext101_32x4d_fold0_best.pth', 'oof_df.csv', 'test_images', 'resnext50_32x4d_fold4.pth', 'label_num_to_disease_map.json', '.ipynb_checkpoints', 'train_images', 'resnext50_32x4d_fold1.pth', 'sample_submission.csv', 'densenet169_fold0_best.pth', 'train.log', 'pytorch-image-models-master', 'train.csv', 'test_tfrecords', 'sample_data']\n",
            "\n",
            "Remove zip files ? (yes/no) :yes\n",
            "\n",
            " Directory contains the following files :  ['.config', 'kaggle.json', 'resnext50_32x4d_fold2.pth', 'resnext50_32x4d_fold3.pth', 'efficientnet_b3_fold0_best.pth', 'train_tfrecords', 'resnext50_32x4d_fold0.pth', 'densenet201_fold0_best.pth', 'legacy_seresnext101_32x4d_fold0_best.pth', 'oof_df.csv', 'test_images', 'resnext50_32x4d_fold4.pth', 'label_num_to_disease_map.json', '.ipynb_checkpoints', 'train_images', 'resnext50_32x4d_fold1.pth', 'sample_submission.csv', 'densenet169_fold0_best.pth', 'train.log', 'pytorch-image-models-master', 'train.csv', 'test_tfrecords', 'sample_data']\n"
          ],
          "name": "stdout"
        }
      ]
    },
    {
      "cell_type": "code",
      "metadata": {
        "colab": {
          "base_uri": "https://localhost:8080/"
        },
        "id": "Ky0MSgrQcW5a",
        "outputId": "f3546095-5a82-4350-8b69-a6afd63b08fd"
      },
      "source": [
        "get_dataset('kaggle datasets download -d harshwardhanbhangale/efficient-b3-trained-model')"
      ],
      "execution_count": 73,
      "outputs": [
        {
          "output_type": "stream",
          "text": [
            "Downloading the dataset....\n",
            "\n",
            "Download completed..\n",
            "Unzipping the zip files\n",
            "\n",
            "Zip Files unzipped\n",
            "\n",
            " Directory contains the following files :  ['.config', 'kaggle.json', 'efficientnet_b2_fold0_best.pth', 'resnext50_32x4d_fold2.pth', 'resnext50_32x4d_fold3.pth', 'efficientnet_b3_fold0_best.pth', 'train_tfrecords', 'resnext50_32x4d_fold0.pth', 'efficient-b3-trained-model.zip', 'densenet201_fold0_best.pth', 'legacy_seresnext101_32x4d_fold0_best.pth', 'oof_df.csv', 'test_images', 'resnext50_32x4d_fold4.pth', 'label_num_to_disease_map.json', '.ipynb_checkpoints', 'train_images', 'resnext50_32x4d_fold1.pth', 'sample_submission.csv', 'densenet169_fold0_best.pth', 'train.log', 'pytorch-image-models-master', 'train.csv', 'test_tfrecords', 'sample_data']\n",
            "\n",
            "Remove zip files ? (yes/no) :yes\n",
            "\n",
            " Directory contains the following files :  ['.config', 'kaggle.json', 'efficientnet_b2_fold0_best.pth', 'resnext50_32x4d_fold2.pth', 'resnext50_32x4d_fold3.pth', 'efficientnet_b3_fold0_best.pth', 'train_tfrecords', 'resnext50_32x4d_fold0.pth', 'densenet201_fold0_best.pth', 'legacy_seresnext101_32x4d_fold0_best.pth', 'oof_df.csv', 'test_images', 'resnext50_32x4d_fold4.pth', 'label_num_to_disease_map.json', '.ipynb_checkpoints', 'train_images', 'resnext50_32x4d_fold1.pth', 'sample_submission.csv', 'densenet169_fold0_best.pth', 'train.log', 'pytorch-image-models-master', 'train.csv', 'test_tfrecords', 'sample_data']\n"
          ],
          "name": "stdout"
        }
      ]
    },
    {
      "cell_type": "code",
      "metadata": {
        "id": "7cbMOJ8fQB35"
      },
      "source": [
        "import os\r\n",
        "\r\n",
        "import pandas as pd\r\n",
        "\r\n",
        "from matplotlib import pyplot as plt\r\n",
        "import seaborn as sns"
      ],
      "execution_count": 11,
      "outputs": []
    },
    {
      "cell_type": "code",
      "metadata": {
        "colab": {
          "base_uri": "https://localhost:8080/"
        },
        "id": "3o2bPjftae7f",
        "outputId": "5071824a-2741-4e8f-e0ef-94c9458cb709"
      },
      "source": [
        "os.listdir('/content')"
      ],
      "execution_count": 68,
      "outputs": [
        {
          "output_type": "execute_result",
          "data": {
            "text/plain": [
              "['.config',\n",
              " 'kaggle.json',\n",
              " 'resnext50_32x4d_fold2.pth',\n",
              " 'resnext50_32x4d_fold3.pth',\n",
              " 'train_tfrecords',\n",
              " 'resnext50_32x4d_fold0.pth',\n",
              " 'densenet201_fold0_best.pth',\n",
              " 'legacy_seresnext101_32x4d_fold0_best.pth',\n",
              " 'oof_df.csv',\n",
              " 'test_images',\n",
              " 'resnext50_32x4d_fold4.pth',\n",
              " 'label_num_to_disease_map.json',\n",
              " 'train_images',\n",
              " 'resnext50_32x4d_fold1.pth',\n",
              " 'sample_submission.csv',\n",
              " 'densenet169_fold0_best.pth',\n",
              " 'train.log',\n",
              " 'pytorch-image-models-master',\n",
              " 'train.csv',\n",
              " 'test_tfrecords',\n",
              " 'sample_data']"
            ]
          },
          "metadata": {
            "tags": []
          },
          "execution_count": 68
        }
      ]
    },
    {
      "cell_type": "code",
      "metadata": {
        "colab": {
          "base_uri": "https://localhost:8080/",
          "height": 434
        },
        "id": "NVVUWC20QGSN",
        "outputId": "4354af53-254e-44e0-cc95-355e81740395"
      },
      "source": [
        "train = pd.read_csv('/content/train.csv')\r\n",
        "test = pd.read_csv('/content/sample_submission.csv')\r\n",
        "label_map = pd.read_json('/content/label_num_to_disease_map.json', \r\n",
        "                         orient='index')\r\n",
        "display(train.head())\r\n",
        "display(test.head())\r\n",
        "display(label_map)"
      ],
      "execution_count": 12,
      "outputs": [
        {
          "output_type": "display_data",
          "data": {
            "text/html": [
              "<div>\n",
              "<style scoped>\n",
              "    .dataframe tbody tr th:only-of-type {\n",
              "        vertical-align: middle;\n",
              "    }\n",
              "\n",
              "    .dataframe tbody tr th {\n",
              "        vertical-align: top;\n",
              "    }\n",
              "\n",
              "    .dataframe thead th {\n",
              "        text-align: right;\n",
              "    }\n",
              "</style>\n",
              "<table border=\"1\" class=\"dataframe\">\n",
              "  <thead>\n",
              "    <tr style=\"text-align: right;\">\n",
              "      <th></th>\n",
              "      <th>image_id</th>\n",
              "      <th>label</th>\n",
              "    </tr>\n",
              "  </thead>\n",
              "  <tbody>\n",
              "    <tr>\n",
              "      <th>0</th>\n",
              "      <td>1000015157.jpg</td>\n",
              "      <td>0</td>\n",
              "    </tr>\n",
              "    <tr>\n",
              "      <th>1</th>\n",
              "      <td>1000201771.jpg</td>\n",
              "      <td>3</td>\n",
              "    </tr>\n",
              "    <tr>\n",
              "      <th>2</th>\n",
              "      <td>100042118.jpg</td>\n",
              "      <td>1</td>\n",
              "    </tr>\n",
              "    <tr>\n",
              "      <th>3</th>\n",
              "      <td>1000723321.jpg</td>\n",
              "      <td>1</td>\n",
              "    </tr>\n",
              "    <tr>\n",
              "      <th>4</th>\n",
              "      <td>1000812911.jpg</td>\n",
              "      <td>3</td>\n",
              "    </tr>\n",
              "  </tbody>\n",
              "</table>\n",
              "</div>"
            ],
            "text/plain": [
              "         image_id  label\n",
              "0  1000015157.jpg      0\n",
              "1  1000201771.jpg      3\n",
              "2   100042118.jpg      1\n",
              "3  1000723321.jpg      1\n",
              "4  1000812911.jpg      3"
            ]
          },
          "metadata": {
            "tags": []
          }
        },
        {
          "output_type": "display_data",
          "data": {
            "text/html": [
              "<div>\n",
              "<style scoped>\n",
              "    .dataframe tbody tr th:only-of-type {\n",
              "        vertical-align: middle;\n",
              "    }\n",
              "\n",
              "    .dataframe tbody tr th {\n",
              "        vertical-align: top;\n",
              "    }\n",
              "\n",
              "    .dataframe thead th {\n",
              "        text-align: right;\n",
              "    }\n",
              "</style>\n",
              "<table border=\"1\" class=\"dataframe\">\n",
              "  <thead>\n",
              "    <tr style=\"text-align: right;\">\n",
              "      <th></th>\n",
              "      <th>image_id</th>\n",
              "      <th>label</th>\n",
              "    </tr>\n",
              "  </thead>\n",
              "  <tbody>\n",
              "    <tr>\n",
              "      <th>0</th>\n",
              "      <td>2216849948.jpg</td>\n",
              "      <td>4</td>\n",
              "    </tr>\n",
              "  </tbody>\n",
              "</table>\n",
              "</div>"
            ],
            "text/plain": [
              "         image_id  label\n",
              "0  2216849948.jpg      4"
            ]
          },
          "metadata": {
            "tags": []
          }
        },
        {
          "output_type": "display_data",
          "data": {
            "text/html": [
              "<div>\n",
              "<style scoped>\n",
              "    .dataframe tbody tr th:only-of-type {\n",
              "        vertical-align: middle;\n",
              "    }\n",
              "\n",
              "    .dataframe tbody tr th {\n",
              "        vertical-align: top;\n",
              "    }\n",
              "\n",
              "    .dataframe thead th {\n",
              "        text-align: right;\n",
              "    }\n",
              "</style>\n",
              "<table border=\"1\" class=\"dataframe\">\n",
              "  <thead>\n",
              "    <tr style=\"text-align: right;\">\n",
              "      <th></th>\n",
              "      <th>0</th>\n",
              "    </tr>\n",
              "  </thead>\n",
              "  <tbody>\n",
              "    <tr>\n",
              "      <th>0</th>\n",
              "      <td>Cassava Bacterial Blight (CBB)</td>\n",
              "    </tr>\n",
              "    <tr>\n",
              "      <th>1</th>\n",
              "      <td>Cassava Brown Streak Disease (CBSD)</td>\n",
              "    </tr>\n",
              "    <tr>\n",
              "      <th>2</th>\n",
              "      <td>Cassava Green Mottle (CGM)</td>\n",
              "    </tr>\n",
              "    <tr>\n",
              "      <th>3</th>\n",
              "      <td>Cassava Mosaic Disease (CMD)</td>\n",
              "    </tr>\n",
              "    <tr>\n",
              "      <th>4</th>\n",
              "      <td>Healthy</td>\n",
              "    </tr>\n",
              "  </tbody>\n",
              "</table>\n",
              "</div>"
            ],
            "text/plain": [
              "                                     0\n",
              "0       Cassava Bacterial Blight (CBB)\n",
              "1  Cassava Brown Streak Disease (CBSD)\n",
              "2           Cassava Green Mottle (CGM)\n",
              "3         Cassava Mosaic Disease (CMD)\n",
              "4                              Healthy"
            ]
          },
          "metadata": {
            "tags": []
          }
        }
      ]
    },
    {
      "cell_type": "code",
      "metadata": {
        "colab": {
          "base_uri": "https://localhost:8080/",
          "height": 350
        },
        "id": "Cuz8pb88SlR0",
        "outputId": "3c49d612-f126-4b9d-c424-9f15435e1cd4"
      },
      "source": [
        "sns.distplot(train['label'], kde=False)"
      ],
      "execution_count": 13,
      "outputs": [
        {
          "output_type": "stream",
          "text": [
            "/usr/local/lib/python3.6/dist-packages/seaborn/distributions.py:2557: FutureWarning: `distplot` is a deprecated function and will be removed in a future version. Please adapt your code to use either `displot` (a figure-level function with similar flexibility) or `histplot` (an axes-level function for histograms).\n",
            "  warnings.warn(msg, FutureWarning)\n"
          ],
          "name": "stderr"
        },
        {
          "output_type": "execute_result",
          "data": {
            "text/plain": [
              "<matplotlib.axes._subplots.AxesSubplot at 0x7fd07c9999b0>"
            ]
          },
          "metadata": {
            "tags": []
          },
          "execution_count": 13
        },
        {
          "output_type": "display_data",
          "data": {
            "image/png": "[encoded data removed]",
            "text/plain": [
              "<Figure size 432x288 with 1 Axes>"
            ]
          },
          "metadata": {
            "tags": [],
            "needs_background": "light"
          }
        }
      ]
    },
    {
      "cell_type": "code",
      "metadata": {
        "id": "JW4VUdLJSrWS"
      },
      "source": [
        "import os\r\n",
        "\r\n",
        "OUTPUT_DIR = './'\r\n",
        "if not os.path.exists(OUTPUT_DIR):\r\n",
        "    os.makedirs(OUTPUT_DIR)\r\n",
        "\r\n",
        "TRAIN_PATH = '/content/train_images'\r\n",
        "TEST_PATH = '/content/test_images'"
      ],
      "execution_count": 14,
      "outputs": []
    },
    {
      "cell_type": "code",
      "metadata": {
        "id": "TFpuRSaFSzT5"
      },
      "source": [
        "class CFG:\r\n",
        "    debug=False\r\n",
        "    apex=False\r\n",
        "    print_freq=300\r\n",
        "    num_workers=4\r\n",
        "    model_name= 'efficientnet_b3'#'densenet169' #'legacy_seresnext101_32x4d'\r\n",
        "    size=512\r\n",
        "    scheduler='CosineAnnealingWarmRestarts' # ['ReduceLROnPlateau', 'CosineAnnealingLR', 'CosineAnnealingWarmRestarts']\r\n",
        "    epochs=20\r\n",
        "    #factor=0.2 # ReduceLROnPlateau\r\n",
        "    #patience=4 # ReduceLROnPlateau\r\n",
        "    #eps=1e-6 # ReduceLROnPlateau\r\n",
        "    #T_max=10 # CosineAnnealingLR\r\n",
        "    T_0=10 # CosineAnnealingWarmRestarts\r\n",
        "    lr=1e-4\r\n",
        "    min_lr=1e-6\r\n",
        "    batch_size=8\r\n",
        "    weight_decay=1e-6\r\n",
        "    gradient_accumulation_steps=1\r\n",
        "    max_grad_norm=1000\r\n",
        "    seed=42\r\n",
        "    target_size=5\r\n",
        "    target_col='label'\r\n",
        "    n_fold=5\r\n",
        "    trn_fold=[0, 1, 2, 3, 4]\r\n",
        "    train=False\r\n",
        "    inference=True\r\n",
        "    \r\n",
        "if CFG.debug:\r\n",
        "    CFG.epochs = 1\r\n",
        "    train = train.sample(n=1000, random_state=CFG.seed).reset_index(drop=True)"
      ],
      "execution_count": 16,
      "outputs": []
    },
    {
      "cell_type": "code",
      "metadata": {
        "colab": {
          "base_uri": "https://localhost:8080/"
        },
        "id": "pBtslSsGS30S",
        "outputId": "5dba3526-ba17-4dfa-fdf6-b2feacdedc9e"
      },
      "source": [
        "!pip install -q -U albumentations\r\n",
        "!echo \"$(pip freeze | grep albumentations) is successfully installed\"\r\n",
        "!pip install timm"
      ],
      "execution_count": 17,
      "outputs": [
        {
          "output_type": "stream",
          "text": [
            "\u001b[K     |████████████████████████████████| 81kB 9.6MB/s \n",
            "\u001b[K     |████████████████████████████████| 37.6MB 84kB/s \n",
            "\u001b[K     |████████████████████████████████| 952kB 47.7MB/s \n",
            "\u001b[?25halbumentations==0.5.2 is successfully installed\n",
            "Collecting timm\n",
            "\u001b[?25l  Downloading https://files.pythonhosted.org/packages/22/c6/ba02d533cec7329323c7d7a317ab49f673846ecef202d4cc40988b6b7786/timm-0.3.4-py3-none-any.whl (244kB)\n",
            "\u001b[K     |████████████████████████████████| 245kB 18.4MB/s \n",
            "\u001b[?25hRequirement already satisfied: torch>=1.4 in /usr/local/lib/python3.6/dist-packages (from timm) (1.7.0+cu101)\n",
            "Requirement already satisfied: torchvision in /usr/local/lib/python3.6/dist-packages (from timm) (0.8.1+cu101)\n",
            "Requirement already satisfied: future in /usr/local/lib/python3.6/dist-packages (from torch>=1.4->timm) (0.16.0)\n",
            "Requirement already satisfied: typing-extensions in /usr/local/lib/python3.6/dist-packages (from torch>=1.4->timm) (3.7.4.3)\n",
            "Requirement already satisfied: numpy in /usr/local/lib/python3.6/dist-packages (from torch>=1.4->timm) (1.19.5)\n",
            "Requirement already satisfied: dataclasses in /usr/local/lib/python3.6/dist-packages (from torch>=1.4->timm) (0.8)\n",
            "Requirement already satisfied: pillow>=4.1.1 in /usr/local/lib/python3.6/dist-packages (from torchvision->timm) (7.0.0)\n",
            "Installing collected packages: timm\n",
            "Successfully installed timm-0.3.4\n"
          ],
          "name": "stdout"
        }
      ]
    },
    {
      "cell_type": "code",
      "metadata": {
        "id": "SzOtkSlUTASd"
      },
      "source": [
        "import sys\r\n",
        "sys.path.append('../input/pytorch-image-models/pytorch-image-models-master')\r\n",
        "\r\n",
        "import os\r\n",
        "import math\r\n",
        "import time\r\n",
        "import random\r\n",
        "import shutil\r\n",
        "from pathlib import Path\r\n",
        "from contextlib import contextmanager\r\n",
        "from collections import defaultdict, Counter\r\n",
        "\r\n",
        "import scipy as sp\r\n",
        "import numpy as np\r\n",
        "import pandas as pd\r\n",
        "\r\n",
        "from sklearn import preprocessing\r\n",
        "from sklearn.metrics import accuracy_score\r\n",
        "from sklearn.model_selection import StratifiedKFold\r\n",
        "\r\n",
        "from tqdm.auto import tqdm\r\n",
        "from functools import partial\r\n",
        "\r\n",
        "import cv2\r\n",
        "from PIL import Image\r\n",
        "\r\n",
        "import torch\r\n",
        "import torch.nn as nn\r\n",
        "import torch.nn.functional as F\r\n",
        "from torch.optim import Adam, SGD\r\n",
        "import torchvision.models as models\r\n",
        "from torch.nn.parameter import Parameter\r\n",
        "from torch.utils.data import DataLoader, Dataset\r\n",
        "from torch.optim.lr_scheduler import CosineAnnealingWarmRestarts, CosineAnnealingLR, ReduceLROnPlateau\r\n",
        "\r\n",
        "from albumentations import (\r\n",
        "    Compose, OneOf, Normalize, Resize, RandomResizedCrop, RandomCrop, HorizontalFlip, VerticalFlip, \r\n",
        "    RandomBrightness, RandomContrast, RandomBrightnessContrast, Rotate, ShiftScaleRotate, Cutout, \r\n",
        "    IAAAdditiveGaussianNoise, Transpose, CenterCrop, HueSaturationValue, CoarseDropout\r\n",
        "    )\r\n",
        "from albumentations.pytorch import ToTensorV2\r\n",
        "from albumentations import ImageOnlyTransform\r\n",
        "\r\n",
        "import timm\r\n",
        "\r\n",
        "import warnings \r\n",
        "warnings.filterwarnings('ignore')\r\n",
        "\r\n",
        "if CFG.apex:\r\n",
        "    from apex import amp\r\n",
        "\r\n",
        "device = torch.device('cuda' if torch.cuda.is_available() else 'cpu')"
      ],
      "execution_count": 18,
      "outputs": []
    },
    {
      "cell_type": "code",
      "metadata": {
        "colab": {
          "base_uri": "https://localhost:8080/"
        },
        "id": "JuSUbNdPWcYQ",
        "outputId": "8f0f80f9-7644-4c6d-c0d4-69e91873bd00"
      },
      "source": [
        "device\r\n"
      ],
      "execution_count": 19,
      "outputs": [
        {
          "output_type": "execute_result",
          "data": {
            "text/plain": [
              "device(type='cuda')"
            ]
          },
          "metadata": {
            "tags": []
          },
          "execution_count": 19
        }
      ]
    },
    {
      "cell_type": "code",
      "metadata": {
        "id": "ZDwLkT9aTDVg"
      },
      "source": [
        "def get_score(y_true, y_pred):\r\n",
        "    return accuracy_score(y_true, y_pred)\r\n",
        "\r\n",
        "\r\n",
        "@contextmanager\r\n",
        "def timer(name):\r\n",
        "    t0 = time.time()\r\n",
        "    LOGGER.info(f'[{name}] start')\r\n",
        "    yield\r\n",
        "    LOGGER.info(f'[{name}] done in {time.time() - t0:.0f} s.')\r\n",
        "\r\n",
        "\r\n",
        "def init_logger(log_file=OUTPUT_DIR+'train.log'):\r\n",
        "    from logging import getLogger, INFO, FileHandler,  Formatter,  StreamHandler\r\n",
        "    logger = getLogger(__name__)\r\n",
        "    logger.setLevel(INFO)\r\n",
        "    handler1 = StreamHandler()\r\n",
        "    handler1.setFormatter(Formatter(\"%(message)s\"))\r\n",
        "    handler2 = FileHandler(filename=log_file)\r\n",
        "    handler2.setFormatter(Formatter(\"%(message)s\"))\r\n",
        "    logger.addHandler(handler1)\r\n",
        "    logger.addHandler(handler2)\r\n",
        "    return logger\r\n",
        "\r\n",
        "LOGGER = init_logger()\r\n",
        "\r\n",
        "\r\n",
        "def seed_torch(seed=42):\r\n",
        "    random.seed(seed)\r\n",
        "    os.environ['PYTHONHASHSEED'] = str(seed)\r\n",
        "    np.random.seed(seed)\r\n",
        "    torch.manual_seed(seed)\r\n",
        "    torch.cuda.manual_seed(seed)\r\n",
        "    torch.backends.cudnn.deterministic = True\r\n",
        "\r\n",
        "seed_torch(seed=CFG.seed)"
      ],
      "execution_count": 20,
      "outputs": []
    },
    {
      "cell_type": "code",
      "metadata": {
        "colab": {
          "base_uri": "https://localhost:8080/"
        },
        "id": "JjXDIcPnTHVj",
        "outputId": "84ca59d0-a661-45e2-bf9f-99c7c1f86659"
      },
      "source": [
        "folds = train.copy()\r\n",
        "Fold = StratifiedKFold(n_splits=CFG.n_fold, shuffle=True, random_state=CFG.seed)\r\n",
        "for n, (train_index, val_index) in enumerate(Fold.split(folds, folds[CFG.target_col])):\r\n",
        "    folds.loc[val_index, 'fold'] = int(n)\r\n",
        "folds['fold'] = folds['fold'].astype(int)\r\n",
        "print(folds.groupby(['fold', CFG.target_col]).size())"
      ],
      "execution_count": 21,
      "outputs": [
        {
          "output_type": "stream",
          "text": [
            "fold  label\n",
            "0     0         218\n",
            "      1         438\n",
            "      2         477\n",
            "      3        2631\n",
            "      4         516\n",
            "1     0         218\n",
            "      1         438\n",
            "      2         477\n",
            "      3        2631\n",
            "      4         516\n",
            "2     0         217\n",
            "      1         438\n",
            "      2         477\n",
            "      3        2632\n",
            "      4         515\n",
            "3     0         217\n",
            "      1         438\n",
            "      2         477\n",
            "      3        2632\n",
            "      4         515\n",
            "4     0         217\n",
            "      1         437\n",
            "      2         478\n",
            "      3        2632\n",
            "      4         515\n",
            "dtype: int64\n"
          ],
          "name": "stdout"
        }
      ]
    },
    {
      "cell_type": "code",
      "metadata": {
        "id": "A1wGjo6iTJij"
      },
      "source": [
        "class TrainDataset(Dataset):\r\n",
        "    def __init__(self, df, transform=None):\r\n",
        "        self.df = df\r\n",
        "        self.file_names = df['image_id'].values\r\n",
        "        self.labels = df['label'].values\r\n",
        "        self.transform = transform\r\n",
        "        \r\n",
        "    def __len__(self):\r\n",
        "        return len(self.df)\r\n",
        "\r\n",
        "    def __getitem__(self, idx):\r\n",
        "        file_name = self.file_names[idx]\r\n",
        "        file_path = f'{TRAIN_PATH}/{file_name}'\r\n",
        "#         file_path_image = self.file_path[idx]\r\n",
        "#         image = cv2.imread(file_path_image)\r\n",
        "        image = cv2.imread(file_path)\r\n",
        "        image = cv2.cvtColor(image, cv2.COLOR_BGR2RGB)\r\n",
        "        if self.transform:\r\n",
        "            augmented = self.transform(image=image)\r\n",
        "            image = augmented['image']\r\n",
        "        label = torch.tensor(self.labels[idx]).long()\r\n",
        "        return image, label\r\n",
        "    \r\n",
        "\r\n",
        "class TestDataset(Dataset):\r\n",
        "    def __init__(self, df, transform=None):\r\n",
        "        self.df = df\r\n",
        "        self.file_names = df['image_id'].values\r\n",
        "#         self.file_path = df['file_path'].values\r\n",
        "        self.transform = transform\r\n",
        "        \r\n",
        "    def __len__(self):\r\n",
        "        return len(self.df)\r\n",
        "\r\n",
        "    def __getitem__(self, idx):\r\n",
        "        file_name = self.file_names[idx]\r\n",
        "        file_path = f'{TRAIN_PATH}/{file_name}'\r\n",
        "        image = cv2.imread(file_path)\r\n",
        "#         file_path_image = self.file_path[idx]\r\n",
        "#         image = cv2.imread(file_path_image)\r\n",
        "        image = cv2.cvtColor(image, cv2.COLOR_BGR2RGB)\r\n",
        "        if self.transform:\r\n",
        "            augmented = self.transform(image=image)\r\n",
        "            image = augmented['image']\r\n",
        "        return image\r\n",
        "\r\n",
        "class TestDatasetDebug(Dataset):\r\n",
        "    def __init__(self, df, transform=None):\r\n",
        "        self.df = df\r\n",
        "        self.file_names = df['image_id'].values\r\n",
        "        self.transform = transform\r\n",
        "        \r\n",
        "    def __len__(self):\r\n",
        "        return len(self.df)\r\n",
        "\r\n",
        "    def __getitem__(self, idx):\r\n",
        "        file_name = self.file_names[idx]\r\n",
        "        file_path = f'{TRAIN_PATH}/{file_name}'\r\n",
        "        image = cv2.imread(file_path)\r\n",
        "        image = cv2.cvtColor(image, cv2.COLOR_BGR2RGB)\r\n",
        "        if self.transform:\r\n",
        "            augmented = self.transform(image=image)\r\n",
        "            image = augmented['image']\r\n",
        "        return image"
      ],
      "execution_count": 22,
      "outputs": []
    },
    {
      "cell_type": "code",
      "metadata": {
        "id": "P1sE4a8gTWhY"
      },
      "source": [
        "def get_transforms(*, data):\r\n",
        "    \r\n",
        "    if data == 'train':\r\n",
        "        return Compose([\r\n",
        "            #Resize(CFG.size, CFG.size),\r\n",
        "            #RandomResizedCrop(CFG.size, CFG.size),\r\n",
        "            CenterCrop(CFG.size, CFG.size),\r\n",
        "            #Transpose(p=0.2),\r\n",
        "            HorizontalFlip(p=0.5),\r\n",
        "            VerticalFlip(p=0.1),\r\n",
        "            ShiftScaleRotate(p=0.5),\r\n",
        "            \r\n",
        "            HueSaturationValue(\r\n",
        "                hue_shift_limit=0.2, \r\n",
        "                sat_shift_limit=0.2, \r\n",
        "                val_shift_limit=0.2, \r\n",
        "                p=0.5\r\n",
        "            ),\r\n",
        "            RandomBrightnessContrast(\r\n",
        "                brightness_limit=(-0.1,0.1), \r\n",
        "                contrast_limit=(-0.1, 0.1), \r\n",
        "                p=0.5\r\n",
        "            ),\r\n",
        "            Normalize(\r\n",
        "                mean=[0.485, 0.456, 0.406], \r\n",
        "                std=[0.229, 0.224, 0.225], \r\n",
        "                max_pixel_value=255.0, \r\n",
        "                p=1.0\r\n",
        "            ),\r\n",
        "            CoarseDropout(p=0.5),\r\n",
        "            ToTensorV2(),\r\n",
        "        ])\r\n",
        "\r\n",
        "    elif data == 'valid':\r\n",
        "        return Compose([\r\n",
        "            Resize(CFG.size, CFG.size),\r\n",
        "            Normalize(\r\n",
        "                mean=[0.485, 0.456, 0.406],\r\n",
        "                std=[0.229, 0.224, 0.225],\r\n",
        "            ),\r\n",
        "            ToTensorV2(),\r\n",
        "        ])"
      ],
      "execution_count": 23,
      "outputs": []
    },
    {
      "cell_type": "code",
      "metadata": {
        "id": "LCte7knxTdwd"
      },
      "source": [
        "class CustomSEResNext(nn.Module):\r\n",
        "    def __init__(self, model_name='resnext50_32x4d', pretrained=False):\r\n",
        "        super().__init__()\r\n",
        "        self.model = timm.create_model(model_name, pretrained=pretrained)\r\n",
        "        n_features = self.model.last_linear.in_features\r\n",
        "        self.model.last_linear = nn.Linear(n_features, CFG.target_size)\r\n",
        "\r\n",
        "    def forward(self, x):\r\n",
        "        x = self.model(x)\r\n",
        "        return x\r\n",
        "\r\n",
        "    \r\n",
        "class CustomDenseNet(nn.Module):\r\n",
        "    def __init__(self, model_name='resnext50_32x4d', pretrained=False):\r\n",
        "        super().__init__()\r\n",
        "        self.model = timm.create_model(model_name, pretrained=pretrained)\r\n",
        "        n_features = self.model.classifier.in_features\r\n",
        "        self.model.classifier = nn.Linear(n_features, CFG.target_size)\r\n",
        "\r\n",
        "    def forward(self, x):\r\n",
        "        x = self.model(x)\r\n",
        "        return x\r\n",
        "\r\n",
        "class CustomEfficientNet(nn.Module):\r\n",
        "    def __init__(self, model_name='resnext50_32x4d', pretrained=False):\r\n",
        "        super().__init__()\r\n",
        "        self.model = timm.create_model(model_name, pretrained=pretrained)\r\n",
        "        n_features = self.model.classifier.in_features\r\n",
        "        self.model.classifier = nn.Linear(n_features, CFG.target_size)\r\n",
        "\r\n",
        "    def forward(self, x):\r\n",
        "        x = self.model(x)\r\n",
        "        return x\r\n",
        "\r\n",
        "class CustomResNext(nn.Module):\r\n",
        "    def __init__(self, model_name='resnext50_32x4d', pretrained=False):\r\n",
        "        super().__init__()\r\n",
        "        self.model = timm.create_model(model_name, pretrained=pretrained)\r\n",
        "        n_features = self.model.fc.in_features\r\n",
        "        self.model.fc = nn.Linear(n_features, CFG.target_size)\r\n",
        "\r\n",
        "    def forward(self, x):\r\n",
        "        x = self.model(x)\r\n",
        "        return x"
      ],
      "execution_count": 24,
      "outputs": []
    },
    {
      "cell_type": "code",
      "metadata": {
        "colab": {
          "base_uri": "https://localhost:8080/"
        },
        "id": "aF3dFpsoTgzQ",
        "outputId": "a0bbb978-2e7a-474f-9128-ce1bc9a37ac6"
      },
      "source": [
        "# model = CustomEfficientNet(model_name=CFG.model_name, pretrained=False)\r\n",
        "# train_dataset = TrainDataset(train, transform=get_transforms(data='train'))\r\n",
        "# train_loader = DataLoader(train_dataset, batch_size=4, shuffle=True,\r\n",
        "#                           num_workers=4, pin_memory=True, drop_last=True)\r\n",
        "\r\n",
        "# for image, label in train_loader:\r\n",
        "#     output = model(image)\r\n",
        "#     print(output)\r\n",
        "#     break"
      ],
      "execution_count": 29,
      "outputs": [
        {
          "output_type": "stream",
          "text": [
            "tensor([[-2.6295e-02,  5.5004e-02, -1.1117e-01, -3.6109e-02,  3.1252e-02],\n",
            "        [ 3.3997e-01, -7.6070e-02,  8.7015e-02, -1.9241e-01,  6.8913e-01],\n",
            "        [-5.1026e-02,  5.0578e-02, -7.7699e-02, -3.8508e-02,  2.2536e-02],\n",
            "        [-1.4329e-01,  7.6833e-02, -2.5846e-02,  5.6097e-04, -5.2140e-02]],\n",
            "       grad_fn=<AddmmBackward>)\n"
          ],
          "name": "stdout"
        }
      ]
    },
    {
      "cell_type": "code",
      "metadata": {
        "id": "YYdqCq4nTi8s"
      },
      "source": [
        "def inference(model, states, test_loader, device):\r\n",
        "    model.to(device)\r\n",
        "    tk0 = tqdm(enumerate(test_loader), total=len(test_loader))\r\n",
        "    probs = []\r\n",
        "    for i, (images) in tk0:\r\n",
        "        images = images.to(device)\r\n",
        "        avg_preds = []\r\n",
        "        for state in states:\r\n",
        "            model.load_state_dict(state['model'])\r\n",
        "            model.eval()\r\n",
        "            with torch.no_grad():\r\n",
        "                y_preds = model(images)\r\n",
        "            avg_preds.append(y_preds.softmax(1).to('cpu').numpy())\r\n",
        "        avg_preds = np.mean(avg_preds, axis=0)\r\n",
        "        probs.append(avg_preds)\r\n",
        "    probs = np.concatenate(probs)\r\n",
        "    return probs"
      ],
      "execution_count": 25,
      "outputs": []
    },
    {
      "cell_type": "code",
      "metadata": {
        "id": "mbGMzPLKTlkl"
      },
      "source": [
        "def predictions(model, test_loader, device, path, num_iterations=1):\r\n",
        "    states = [torch.load(path)]\r\n",
        "    \r\n",
        "    list_predictions = np.zeros(CFG.target_size)\r\n",
        "        \r\n",
        "    for i in range(num_iterations):\r\n",
        "        predictions = inference(model, states, test_loader, device)\r\n",
        "            \r\n",
        "        list_predictions = list_predictions + predictions\r\n",
        "        #print(list_predictions)\r\n",
        "        #print(predictions)\r\n",
        "            \r\n",
        "    #print(list_predictions)\r\n",
        "\r\n",
        "    return list_predictions/num_iterations"
      ],
      "execution_count": 27,
      "outputs": []
    },
    {
      "cell_type": "code",
      "metadata": {
        "id": "GB8rvjFZTp0q"
      },
      "source": [
        "# ====================================================\r\n",
        "# Helper functions\r\n",
        "# ====================================================\r\n",
        "def load_state(model_path):\r\n",
        "    model = CustomResNext('resnext50_32x4d', pretrained=False)\r\n",
        "    try:  # single GPU model_file\r\n",
        "        model.load_state_dict(torch.load(model_path)['model'], strict=True)\r\n",
        "        state_dict = torch.load(model_path)['model']\r\n",
        "    except:  # multi GPU model_file\r\n",
        "        state_dict = torch.load(model_path)['model']\r\n",
        "        state_dict = {k[7:] if k.startswith('module.') else k: state_dict[k] for k in state_dict.keys()}\r\n",
        "\r\n",
        "    return state_dict\r\n",
        "\r\n",
        "\r\n",
        "def inference_resnext(model, states, test_loader, device):\r\n",
        "    model.to(device)\r\n",
        "    tk0 = tqdm(enumerate(test_loader), total=len(test_loader))\r\n",
        "    probs = []\r\n",
        "    for i, (images) in tk0:\r\n",
        "        images = images.to(device)\r\n",
        "        avg_preds = []\r\n",
        "        for state in states:\r\n",
        "            model.load_state_dict(state)\r\n",
        "            model.eval()\r\n",
        "            with torch.no_grad():\r\n",
        "                y_preds = model(images)\r\n",
        "            avg_preds.append(y_preds.softmax(1).to('cpu').numpy())\r\n",
        "        avg_preds = np.mean(avg_preds, axis=0)\r\n",
        "        probs.append(avg_preds)\r\n",
        "    probs = np.concatenate(probs)\r\n",
        "    return probs"
      ],
      "execution_count": 28,
      "outputs": []
    },
    {
      "cell_type": "code",
      "metadata": {
        "id": "h9D717pQTspn"
      },
      "source": [
        "def predictions_resnext(model, test_loader, device, path, num_iterations=1):\r\n",
        "    states = [load_state(path)]\r\n",
        "    \r\n",
        "    list_predictions = np.zeros(CFG.target_size)\r\n",
        "        \r\n",
        "    for i in range(num_iterations):\r\n",
        "        predictions = inference_resnext(model, states, test_loader, device)\r\n",
        "            \r\n",
        "        list_predictions = list_predictions + predictions\r\n",
        "        #print(list_predictions)\r\n",
        "        #print(predictions)\r\n",
        "            \r\n",
        "    #print(list_predictions)\r\n",
        "\r\n",
        "    return list_predictions/num_iterations"
      ],
      "execution_count": 29,
      "outputs": []
    },
    {
      "cell_type": "code",
      "metadata": {
        "id": "zi5DnT3_YBcu"
      },
      "source": [
        "final_preds_a = 0\r\n",
        "final_preds_b = 0\r\n"
      ],
      "execution_count": 61,
      "outputs": []
    },
    {
      "cell_type": "code",
      "metadata": {
        "id": "Bq6JBkJCTu44"
      },
      "source": [
        "def main():\r\n",
        "\r\n",
        "    global final_preds_a\r\n",
        "    global final_preds_b\r\n",
        "    \"\"\"\r\n",
        "    Prepare: 1.train  2.test  3.submission  4.folds\r\n",
        "    \"\"\"\r\n",
        "    \r\n",
        "    val_idx = folds[folds['fold'] == 0].index\r\n",
        "    valid_folds = folds.loc[val_idx].reset_index(drop=True)\r\n",
        "    valid_dataset = TestDataset(valid_folds,transform=get_transforms(data='valid'))\r\n",
        "    print(valid_dataset.__len__())\r\n",
        "    valid_loader = DataLoader(valid_dataset, \r\n",
        "                              batch_size=CFG.batch_size, \r\n",
        "                              shuffle=False, \r\n",
        "                              num_workers=CFG.num_workers, pin_memory=True, drop_last=False)\r\n",
        "    \r\n",
        "    #         test_dataset = TestDataset(test, transform=get_transforms(data='valid'))\r\n",
        "        \r\n",
        "#         test_loader = DataLoader(test_dataset, batch_size=CFG.batch_size, shuffle=False, \r\n",
        "#                                  num_workers=CFG.num_workers, pin_memory=True)\r\n",
        "    \r\n",
        "    def get_result(result_df):\r\n",
        "        preds = result_df['preds'].values\r\n",
        "        labels = result_df[CFG.target_col].values\r\n",
        "        score = get_score(labels, preds)\r\n",
        "        LOGGER.info(f'Score: {score:<.5f}')\r\n",
        "    \r\n",
        "#     if CFG.train:\r\n",
        "#         # train \r\n",
        "#         oof_df = pd.DataFrame()\r\n",
        "#         for fold in range(CFG.n_fold):\r\n",
        "#             if fold > 0:\r\n",
        "#                 break\r\n",
        "#             if fold in CFG.trn_fold:\r\n",
        "#                 _oof_df = train_loop(folds, fold)\r\n",
        "#                 oof_df = pd.concat([oof_df, _oof_df])\r\n",
        "#                 LOGGER.info(f\"========== fold: {fold} result ==========\")\r\n",
        "#                 get_result(_oof_df)\r\n",
        "#         # CV result\r\n",
        "#         LOGGER.info(f\"========== CV ==========\")\r\n",
        "#         get_result(oof_df)\r\n",
        "#         # save result\r\n",
        "#         oof_df.to_csv(OUTPUT_DIR+'oof_df.csv', index=False)\r\n",
        "    \r\n",
        "    if CFG.inference:\r\n",
        "        # inference\r\n",
        "        # model_1 = CustomSEResNext('legacy_seresnext101_32x4d', pretrained=False)\r\n",
        "        # model_2 = CustomDenseNet('densenet169', pretrained=False)\r\n",
        "        # model_3 = CustomDenseNet('densenet201', pretrained = False)\r\n",
        "        # model_4 = CustomEfficientNet('efficientnet_b3', pretrained=False)        \r\n",
        "        # model_5 = CustomEfficientNet('efficientnet_b2', pretrained=False)\r\n",
        "        \r\n",
        "        # model_6 = CustomResNext('resnext50_32x4d', pretrained=False)\r\n",
        "        # model_7 = CustomResNext('resnext50_32x4d', pretrained=False)\r\n",
        "        # model_8 = CustomResNext('resnext50_32x4d', pretrained=False)\r\n",
        "        # model_9 = CustomResNext('resnext50_32x4d', pretrained=False)\r\n",
        "        # model_10 = CustomResNext('resnext50_32x4d', pretrained=False)\r\n",
        "\r\n",
        "        model_11 = CustomSEResNext('legacy_seresnext101_32x4d', pretrained=False)\r\n",
        "        model_12 = CustomDenseNet('densenet169', pretrained=False)\r\n",
        "        #model_13 = CustomDenseNet('densenet201', pretrained = False)\r\n",
        "        model_14 = CustomEfficientNet('efficientnet_b3', pretrained=False)        \r\n",
        "        model_15 = CustomEfficientNet('efficientnet_b2', pretrained=False)\r\n",
        "\r\n",
        "\r\n",
        "        \r\n",
        "        \r\n",
        "#         #states = [torch.load(\"../input/efficientnetb3-ip512-trained-model/efficientnet_b3_fold0_best.pth\")] #for fold in CFG.trn_fold]\r\n",
        "\r\n",
        "        \r\n",
        "        #list_predictions = [[0, 0, 0, 0, 0]]\r\n",
        "        \r\n",
        "#         for i in range(5):\r\n",
        "#             predictions = inference(model, states, test_loader, device)\r\n",
        "            \r\n",
        "#             #list_predictions = list_predictions + predictions\r\n",
        "#             #print(list_predictions)\r\n",
        "#             print(predictions)\r\n",
        "            \r\n",
        "#             #list_predictions = np.vstack((list_predictions, predictions))\r\n",
        "#             #print(list_predictions)\r\n",
        "\r\n",
        "        # final_preds_1 = predictions(model_1,valid_loader, device,\r\n",
        "        #                           path = '/content/legacy_seresnext101_32x4d_fold0_best.pth')\r\n",
        "\r\n",
        "        # final_preds_2 = predictions(model_2,valid_loader, device,\r\n",
        "        #                           path = '/content/densenet169_fold0_best.pth')\r\n",
        "\r\n",
        "        # final_preds_3 = predictions(model_3,valid_loader, device,\r\n",
        "        #                           path = '/content/densenet201_fold0_best.pth')\r\n",
        "\r\n",
        "        # final_preds_4 = predictions(model_4,valid_loader, device,\r\n",
        "        #                           path = '/content/efficientnet_b3_fold0_best.pth')\r\n",
        "\r\n",
        "        # final_preds_5 = predictions(model_5,valid_loader, device,\r\n",
        "        #                           path = '/content/efficientnet_b2_fold0_best.pth')\r\n",
        "\r\n",
        "        # #print('---------------------------------------------------------')\r\n",
        "        \r\n",
        "        # final_preds_6 = predictions_resnext(model_6,valid_loader, device,\r\n",
        "        #                           path = '/content/resnext50_32x4d_fold0.pth')\r\n",
        "\r\n",
        "        # final_preds_7 = predictions_resnext(model_7,valid_loader, device,\r\n",
        "        #                           path = '/content/resnext50_32x4d_fold1.pth')\r\n",
        "\r\n",
        "        # final_preds_8 = predictions_resnext(model_8,valid_loader, device,\r\n",
        "        #                           path = '/content/resnext50_32x4d_fold2.pth')\r\n",
        "\r\n",
        "        # final_preds_9 = predictions_resnext(model_9,valid_loader, device,\r\n",
        "        #                           path = '/content/resnext50_32x4d_fold3.pth')\r\n",
        "\r\n",
        "        # final_preds_10 = predictions_resnext(model_10,valid_loader, device,\r\n",
        "        #                           path = '/content/resnext50_32x4d_fold4.pth')\r\n",
        "\r\n",
        "\r\n",
        "        final_preds_11 = predictions(model_11,valid_loader, device,\r\n",
        "                                  path = '/content/legacy_seresnext101_32x4d_fold0_best.pth')\r\n",
        "\r\n",
        "        final_preds_12 = predictions(model_12,valid_loader, device,\r\n",
        "                                  path = '/content/densenet169_fold0_best.pth')\r\n",
        "\r\n",
        "        # final_preds_13 = predictions(model_13,valid_loader, device,\r\n",
        "        #                           path = '/content/densenet201_fold0_best.pth')\r\n",
        "\r\n",
        "        final_preds_14 = predictions(model_14,valid_loader, device,\r\n",
        "                                  path = '/content/efficientnet_b3_fold0_best.pth')\r\n",
        "\r\n",
        "        final_preds_15 = predictions(model_15,valid_loader, device,\r\n",
        "                                  path = '/content/efficientnet_b2_fold0_best.pth')\r\n",
        "\r\n",
        "        \r\n",
        "        #final_preds_a = new 2019+2020\r\n",
        "        final_preds_a = final_preds_1 + final_preds_2 + final_preds_3 + final_preds_4 + final_preds_5\r\n",
        "        final_preds_a = final_preds_a/5\r\n",
        "        \r\n",
        "        #final_preds_b = uthaye hue models\r\n",
        "        final_preds_b = final_preds_6 + final_preds_7 + final_preds_8 + final_preds_9 + final_preds_10\r\n",
        "        final_preds_b = final_preds_b/5\r\n",
        "        \r\n",
        "        \r\n",
        "       \r\n",
        "        final_preds = final_preds_a *0.5 + final_preds_b*0.5\r\n",
        "        \r\n",
        "        # valid_labels = valid_folds[CFG.target_col].values\r\n",
        "        \r\n",
        "        # score = get_score(valid_labels, final_preds.argmax(1))\r\n",
        "        \r\n",
        "        # print(score)\r\n",
        "#         LOGGER.info(f'Epoch {epoch+1} - Accuracy: {score}')\r\n",
        "#         #print(final_preds)\r\n",
        "        # submission\r\n",
        "#         test['label'] = final_preds.argmax(1)\r\n",
        "#         test[['image_id', 'label']].to_csv(OUTPUT_DIR+'submission.csv', index=False)"
      ],
      "execution_count": 81,
      "outputs": []
    },
    {
      "cell_type": "code",
      "metadata": {
        "colab": {
          "base_uri": "https://localhost:8080/",
          "height": 522,
          "referenced_widgets": [
            "6e349b5457934edabb37bf33762f0fd1",
            "153bd33395414ef4a4de33c0f811748e",
            "47ca618049a94c82be90c3d600d87fb1",
            "ab22d0267c034551add9fc12a329359f",
            "130dbcf1667840dc986dafeccec9c6bf",
            "9931f5031f534df8a75300e0f57ecac9",
            "26acb1eb52714390889735c1021e8d4a",
            "f6cba0efc9364fbe967e6add3f7bd6fc",
            "70b43fa1b66a4c94a267e46b80b2ca3c",
            "b5e2f7e81803472a9cb32ed3cf3e3ca6",
            "6660a14023d0413e8d568690820e72c1",
            "bdfc73eedc5a4a88b7fc374eda20eb2d",
            "b52c95fc42a14fbd80d059064b7d6630",
            "09d57bf6947746cf9af4a8e1898bdb3c",
            "ea2764a6b2df4607b38f4ac2375b144d",
            "3e900514cc1f46928712e305ed3dcb51",
            "212d12d06e0b46838b80352ccd912934",
            "9aec25a69c494ce1b026ba0e01410ea5",
            "51da7739c7fb4aafb4cb5358a167ff32",
            "a444e5cb58d64029bcd6481212790b69",
            "567fa0b9b84d4f378bdd49c4c43ed11b",
            "a4e1eaa8cac74e39b6a6347244f45ff6",
            "5698a459b8514e6d836f47c196a8f950",
            "25086243460d4e70b61f66f5a9687c4b",
            "983c573b2b1745baa6e814594b3b70bc",
            "6e0ffb48c00446b98e4aa65d24dd8e98",
            "384d3a3a77034070ab9b6b680426a397",
            "d4f55f2e714849d59b1c8f7fe3fe8aa7",
            "2d1dd8767dd54af99650d8fb0457c971",
            "9e4a3e714dde4581b6514dd4dba1cffd",
            "38154d09a86749a8ab2c977228b7fe46",
            "a6c5864a9d8744da9c6641e94ca85f6e",
            "4ca97725bfa64df1a1249d794e021986",
            "5f3a602f0b8d4ae19cd9dd17cee04751",
            "3d22ac28d41b498f81af32ac86af4b92",
            "304bbb4892f84abcaa616b89824c8a12",
            "c2fb97f38179421daf744d9d7f9fd180",
            "d378f48512ab434caaa7ec00939bf75d",
            "42e535d51b174f10bac016a6646cc22d",
            "1c79b2f7dd22415e9011502f85f86352",
            "088c42ff7efe43f6a4b29ebede6ce089",
            "eebff5c9bc67408fb40b3ed24a90d1c9",
            "5db8abeda2594113a7c817aee359df79",
            "c2bbcd80124a48d38681d6a3b5eee095",
            "646925220eb54b07bc96a20a90302f56",
            "360dbe59e1fc43fbb41398307ab83da6",
            "fe40f82103e74d7ab22c91a981b9c7c7",
            "038c4216cb6f4257884f91c7e8e26717",
            "a6cb20c2b5cf402e97ce1b1bbaf25094",
            "956582306e494803b7a771ec0ebf1c9f",
            "7cf6d00ea67d4162b2f0f12a10bd2fd8",
            "d6a7d27e67184e10ae75db9b680c4c72",
            "1a96b36a4d0b4798bae5bd8dfaf84598",
            "3b40c37e0d6747f88b9f6caec262d9d0",
            "ac1a6f1e4445433d99b63432d39595bf",
            "20633918bed64fa8a60da754457364ea",
            "c4139b1729bd438a8ffba5868078ba83",
            "b6db7394c5024c599a9b0a01423cb38b",
            "14a9480ce41a441d85e2f47acc0f8c03",
            "204f1cf17128402faa1b7639426c4934",
            "29fcfe6ceb1c4929baa50273719b56fc",
            "87cb89633e9d4a48a58bb8e935cfae52",
            "1ebbfb6d3d724200bac5b217d5d44046",
            "cf1cee51109d4e0da135f379414fc5df",
            "bb61dc2382454058b2ae4631ce11f8ac",
            "8915f1eb78e343a88cb50611dbfd4138",
            "8858137ec3bd4a66bf1cb10313375155",
            "e31731d67ad04a7791a4419008f2e948",
            "678b261694394ccbb58044efb0503348",
            "7d19dd67dadb4010822cb4ef9fb1f0d0",
            "03896dae3fa544ba94d55a2364a0f44e",
            "078cb0aa13d4495f826189d7cdaed367",
            "bdd34d9b53f249858f8b91e81bf18038",
            "ed78a9731534438cbe5655b2a1a6a86e",
            "5f8d5a0502d248c7a7917fd3e399c184",
            "ed8614f6e40c4487aa245c46aa036fe7",
            "d074d1396abc4944ae3defe7ca5fc842",
            "c6d90c2ddaed4c3c87371f4427023f7b",
            "8f0fcda9409c46b6b58fec365d1c73db",
            "711e732b19e84c6cb040678775de0e8b"
          ]
        },
        "id": "Xa9Fy8sSTzq_",
        "outputId": "f208e361-ad9a-494a-b579-701a7a31cea0"
      },
      "source": [
        "if __name__ == '__main__':\r\n",
        "    main()"
      ],
      "execution_count": 82,
      "outputs": [
        {
          "output_type": "stream",
          "text": [
            "4280\n"
          ],
          "name": "stdout"
        },
        {
          "output_type": "display_data",
          "data": {
            "application/vnd.jupyter.widget-view+json": {
              "model_id": "6e349b5457934edabb37bf33762f0fd1",
              "version_minor": 0,
              "version_major": 2
            },
            "text/plain": [
              "HBox(children=(FloatProgress(value=0.0, max=535.0), HTML(value='')))"
            ]
          },
          "metadata": {
            "tags": []
          }
        },
        {
          "output_type": "stream",
          "text": [
            "\n"
          ],
          "name": "stdout"
        },
        {
          "output_type": "display_data",
          "data": {
            "application/vnd.jupyter.widget-view+json": {
              "model_id": "70b43fa1b66a4c94a267e46b80b2ca3c",
              "version_minor": 0,
              "version_major": 2
            },
            "text/plain": [
              "HBox(children=(FloatProgress(value=0.0, max=535.0), HTML(value='')))"
            ]
          },
          "metadata": {
            "tags": []
          }
        },
        {
          "output_type": "stream",
          "text": [
            "\n"
          ],
          "name": "stdout"
        },
        {
          "output_type": "display_data",
          "data": {
            "application/vnd.jupyter.widget-view+json": {
              "model_id": "212d12d06e0b46838b80352ccd912934",
              "version_minor": 0,
              "version_major": 2
            },
            "text/plain": [
              "HBox(children=(FloatProgress(value=0.0, max=535.0), HTML(value='')))"
            ]
          },
          "metadata": {
            "tags": []
          }
        },
        {
          "output_type": "stream",
          "text": [
            "\n"
          ],
          "name": "stdout"
        },
        {
          "output_type": "display_data",
          "data": {
            "application/vnd.jupyter.widget-view+json": {
              "model_id": "983c573b2b1745baa6e814594b3b70bc",
              "version_minor": 0,
              "version_major": 2
            },
            "text/plain": [
              "HBox(children=(FloatProgress(value=0.0, max=535.0), HTML(value='')))"
            ]
          },
          "metadata": {
            "tags": []
          }
        },
        {
          "output_type": "stream",
          "text": [
            "\n"
          ],
          "name": "stdout"
        },
        {
          "output_type": "display_data",
          "data": {
            "application/vnd.jupyter.widget-view+json": {
              "model_id": "4ca97725bfa64df1a1249d794e021986",
              "version_minor": 0,
              "version_major": 2
            },
            "text/plain": [
              "HBox(children=(FloatProgress(value=0.0, max=535.0), HTML(value='')))"
            ]
          },
          "metadata": {
            "tags": []
          }
        },
        {
          "output_type": "stream",
          "text": [
            "\n"
          ],
          "name": "stdout"
        },
        {
          "output_type": "display_data",
          "data": {
            "application/vnd.jupyter.widget-view+json": {
              "model_id": "088c42ff7efe43f6a4b29ebede6ce089",
              "version_minor": 0,
              "version_major": 2
            },
            "text/plain": [
              "HBox(children=(FloatProgress(value=0.0, max=535.0), HTML(value='')))"
            ]
          },
          "metadata": {
            "tags": []
          }
        },
        {
          "output_type": "stream",
          "text": [
            "\n"
          ],
          "name": "stdout"
        },
        {
          "output_type": "display_data",
          "data": {
            "application/vnd.jupyter.widget-view+json": {
              "model_id": "a6cb20c2b5cf402e97ce1b1bbaf25094",
              "version_minor": 0,
              "version_major": 2
            },
            "text/plain": [
              "HBox(children=(FloatProgress(value=0.0, max=535.0), HTML(value='')))"
            ]
          },
          "metadata": {
            "tags": []
          }
        },
        {
          "output_type": "stream",
          "text": [
            "\n"
          ],
          "name": "stdout"
        },
        {
          "output_type": "display_data",
          "data": {
            "application/vnd.jupyter.widget-view+json": {
              "model_id": "c4139b1729bd438a8ffba5868078ba83",
              "version_minor": 0,
              "version_major": 2
            },
            "text/plain": [
              "HBox(children=(FloatProgress(value=0.0, max=535.0), HTML(value='')))"
            ]
          },
          "metadata": {
            "tags": []
          }
        },
        {
          "output_type": "stream",
          "text": [
            "\n"
          ],
          "name": "stdout"
        },
        {
          "output_type": "display_data",
          "data": {
            "application/vnd.jupyter.widget-view+json": {
              "model_id": "bb61dc2382454058b2ae4631ce11f8ac",
              "version_minor": 0,
              "version_major": 2
            },
            "text/plain": [
              "HBox(children=(FloatProgress(value=0.0, max=535.0), HTML(value='')))"
            ]
          },
          "metadata": {
            "tags": []
          }
        },
        {
          "output_type": "stream",
          "text": [
            "\n"
          ],
          "name": "stdout"
        },
        {
          "output_type": "display_data",
          "data": {
            "application/vnd.jupyter.widget-view+json": {
              "model_id": "bdd34d9b53f249858f8b91e81bf18038",
              "version_minor": 0,
              "version_major": 2
            },
            "text/plain": [
              "HBox(children=(FloatProgress(value=0.0, max=535.0), HTML(value='')))"
            ]
          },
          "metadata": {
            "tags": []
          }
        },
        {
          "output_type": "stream",
          "text": [
            "\n"
          ],
          "name": "stdout"
        }
      ]
    },
    {
      "cell_type": "code",
      "metadata": {
        "colab": {
          "base_uri": "https://localhost:8080/"
        },
        "id": "_Yz6w8yDX2zH",
        "outputId": "e93e05d4-5c5d-465c-c44d-e319cddf24cc"
      },
      "source": [
        "final_preds_a"
      ],
      "execution_count": 83,
      "outputs": [
        {
          "output_type": "execute_result",
          "data": {
            "text/plain": [
              "array([[5.76069081e-01, 1.16373519e-01, 3.07348582e-03, 6.00701633e-03,\n",
              "        2.98476922e-01],\n",
              "       [9.82062387e-01, 9.60946468e-03, 3.10161134e-03, 1.45092427e-03,\n",
              "        3.77561600e-03],\n",
              "       [8.90335110e-06, 1.13114491e-05, 9.85847213e-06, 9.99950123e-01,\n",
              "        1.98162625e-05],\n",
              "       ...,\n",
              "       [3.13556676e-05, 2.14802250e-05, 2.78056456e-05, 9.99670434e-01,\n",
              "        2.48909397e-04],\n",
              "       [8.70431020e-03, 1.92609909e-01, 8.58305377e-02, 6.98636127e-01,\n",
              "        1.42191083e-02],\n",
              "       [7.25229546e-06, 1.30489479e-05, 1.54956535e-05, 9.99957108e-01,\n",
              "        7.09288321e-06]])"
            ]
          },
          "metadata": {
            "tags": []
          },
          "execution_count": 83
        }
      ]
    },
    {
      "cell_type": "code",
      "metadata": {
        "colab": {
          "base_uri": "https://localhost:8080/",
          "height": 17
        },
        "id": "FQcsJFAxf9f_",
        "outputId": "3ff36722-253a-4016-a497-a1bd407e3af9"
      },
      "source": [
        "df = pd.DataFrame(final_preds_a)\r\n",
        "df.to_csv('final_preds_a.csv', index=False)\r\n",
        "from google.colab import files\r\n",
        "files.download('final_preds_a.csv')"
      ],
      "execution_count": 84,
      "outputs": [
        {
          "output_type": "display_data",
          "data": {
            "application/javascript": [
              "\n",
              "    async function download(id, filename, size) {\n",
              "      if (!google.colab.kernel.accessAllowed) {\n",
              "        return;\n",
              "      }\n",
              "      const div = document.createElement('div');\n",
              "      const label = document.createElement('label');\n",
              "      label.textContent = `Downloading \"${filename}\": `;\n",
              "      div.appendChild(label);\n",
              "      const progress = document.createElement('progress');\n",
              "      progress.max = size;\n",
              "      div.appendChild(progress);\n",
              "      document.body.appendChild(div);\n",
              "\n",
              "      const buffers = [];\n",
              "      let downloaded = 0;\n",
              "\n",
              "      const channel = await google.colab.kernel.comms.open(id);\n",
              "      // Send a message to notify the kernel that we're ready.\n",
              "      channel.send({})\n",
              "\n",
              "      for await (const message of channel.messages) {\n",
              "        // Send a message to notify the kernel that we're ready.\n",
              "        channel.send({})\n",
              "        if (message.buffers) {\n",
              "          for (const buffer of message.buffers) {\n",
              "            buffers.push(buffer);\n",
              "            downloaded += buffer.byteLength;\n",
              "            progress.value = downloaded;\n",
              "          }\n",
              "        }\n",
              "      }\n",
              "      const blob = new Blob(buffers, {type: 'application/binary'});\n",
              "      const a = document.createElement('a');\n",
              "      a.href = window.URL.createObjectURL(blob);\n",
              "      a.download = filename;\n",
              "      div.appendChild(a);\n",
              "      a.click();\n",
              "      div.remove();\n",
              "    }\n",
              "  "
            ],
            "text/plain": [
              "<IPython.core.display.Javascript object>"
            ]
          },
          "metadata": {
            "tags": []
          }
        },
        {
          "output_type": "display_data",
          "data": {
            "application/javascript": [
              "download(\"download_0da7bfc7-e657-4440-a8b0-9a3134566f86\", \"final_preds_a.csv\", 453981)"
            ],
            "text/plain": [
              "<IPython.core.display.Javascript object>"
            ]
          },
          "metadata": {
            "tags": []
          }
        }
      ]
    },
    {
      "cell_type": "code",
      "metadata": {
        "colab": {
          "base_uri": "https://localhost:8080/",
          "height": 17
        },
        "id": "aICOn6gigzL3",
        "outputId": "e1e7db30-73f0-421b-83bf-740b61df117d"
      },
      "source": [
        "df = pd.DataFrame(final_preds_b)\r\n",
        "df.to_csv('final_preds_b.csv', index=False)\r\n",
        "from google.colab import files\r\n",
        "files.download('final_preds_b.csv')"
      ],
      "execution_count": 85,
      "outputs": [
        {
          "output_type": "display_data",
          "data": {
            "application/javascript": [
              "\n",
              "    async function download(id, filename, size) {\n",
              "      if (!google.colab.kernel.accessAllowed) {\n",
              "        return;\n",
              "      }\n",
              "      const div = document.createElement('div');\n",
              "      const label = document.createElement('label');\n",
              "      label.textContent = `Downloading \"${filename}\": `;\n",
              "      div.appendChild(label);\n",
              "      const progress = document.createElement('progress');\n",
              "      progress.max = size;\n",
              "      div.appendChild(progress);\n",
              "      document.body.appendChild(div);\n",
              "\n",
              "      const buffers = [];\n",
              "      let downloaded = 0;\n",
              "\n",
              "      const channel = await google.colab.kernel.comms.open(id);\n",
              "      // Send a message to notify the kernel that we're ready.\n",
              "      channel.send({})\n",
              "\n",
              "      for await (const message of channel.messages) {\n",
              "        // Send a message to notify the kernel that we're ready.\n",
              "        channel.send({})\n",
              "        if (message.buffers) {\n",
              "          for (const buffer of message.buffers) {\n",
              "            buffers.push(buffer);\n",
              "            downloaded += buffer.byteLength;\n",
              "            progress.value = downloaded;\n",
              "          }\n",
              "        }\n",
              "      }\n",
              "      const blob = new Blob(buffers, {type: 'application/binary'});\n",
              "      const a = document.createElement('a');\n",
              "      a.href = window.URL.createObjectURL(blob);\n",
              "      a.download = filename;\n",
              "      div.appendChild(a);\n",
              "      a.click();\n",
              "      div.remove();\n",
              "    }\n",
              "  "
            ],
            "text/plain": [
              "<IPython.core.display.Javascript object>"
            ]
          },
          "metadata": {
            "tags": []
          }
        },
        {
          "output_type": "display_data",
          "data": {
            "application/javascript": [
              "download(\"download_680ba436-a509-40d5-b3c7-904d998a0367\", \"final_preds_b.csv\", 431110)"
            ],
            "text/plain": [
              "<IPython.core.display.Javascript object>"
            ]
          },
          "metadata": {
            "tags": []
          }
        }
      ]
    },
    {
      "cell_type": "code",
      "metadata": {
        "colab": {
          "base_uri": "https://localhost:8080/"
        },
        "id": "SEisv78xnkgi",
        "outputId": "1dcb19ac-584b-41b2-9c5d-1d3197a0376e"
      },
      "source": [
        "get_dataset('kaggle datasets download -d harshwardhanbhangale/legacy-seresnext101-merged')"
      ],
      "execution_count": 90,
      "outputs": [
        {
          "output_type": "stream",
          "text": [
            "Downloading the dataset....\n",
            "\n",
            "Download completed..\n",
            "Unzipping the zip files\n",
            "\n",
            "Zip Files unzipped\n",
            "\n",
            " Directory contains the following files :  ['.config', 'legacy-seresnext101-merged.zip', 'final_preds_a.csv', 'final_preds_b.csv', 'kaggle.json', 'resnext50_32x4d_fold2.pth', 'resnext50_32x4d_fold3.pth', 'train_tfrecords', 'resnext50_32x4d_fold0.pth', 'densenet201_fold0_best.pth', 'legacy_seresnext101_32x4d_fold0_best.pth', 'oof_df.csv', 'test_images', 'resnext50_32x4d_fold4.pth', 'label_num_to_disease_map.json', '.ipynb_checkpoints', 'train_images', 'resnext50_32x4d_fold1.pth', 'sample_submission.csv', 'train.log', 'pytorch-image-models-master', 'train.csv', 'test_tfrecords', 'sample_data']\n",
            "\n",
            "Remove zip files ? (yes/no) :yes\n",
            "\n",
            " Directory contains the following files :  ['.config', 'final_preds_a.csv', 'final_preds_b.csv', 'kaggle.json', 'resnext50_32x4d_fold2.pth', 'resnext50_32x4d_fold3.pth', 'train_tfrecords', 'resnext50_32x4d_fold0.pth', 'densenet201_fold0_best.pth', 'legacy_seresnext101_32x4d_fold0_best.pth', 'oof_df.csv', 'test_images', 'resnext50_32x4d_fold4.pth', 'label_num_to_disease_map.json', '.ipynb_checkpoints', 'train_images', 'resnext50_32x4d_fold1.pth', 'sample_submission.csv', 'train.log', 'pytorch-image-models-master', 'train.csv', 'test_tfrecords', 'sample_data']\n"
          ],
          "name": "stdout"
        }
      ]
    },
    {
      "cell_type": "code",
      "metadata": {
        "colab": {
          "base_uri": "https://localhost:8080/"
        },
        "id": "XPYwJfGfnkZP",
        "outputId": "7b20a9fe-2dd4-4891-f742-4ca241ea007b"
      },
      "source": [
        "get_dataset('kaggle datasets download -d harshwardhanbhangale/efficientnet-b2-merged')"
      ],
      "execution_count": 91,
      "outputs": [
        {
          "output_type": "stream",
          "text": [
            "Downloading the dataset....\n",
            "\n",
            "Download completed..\n",
            "Unzipping the zip files\n",
            "\n",
            "Zip Files unzipped\n",
            "\n",
            " Directory contains the following files :  ['.config', 'final_preds_a.csv', 'final_preds_b.csv', 'kaggle.json', 'efficientnet_b2_fold0_best.pth', 'resnext50_32x4d_fold2.pth', 'resnext50_32x4d_fold3.pth', 'train_tfrecords', 'resnext50_32x4d_fold0.pth', 'densenet201_fold0_best.pth', 'legacy_seresnext101_32x4d_fold0_best.pth', 'oof_df.csv', 'test_images', 'efficientnet-b2-merged.zip', 'resnext50_32x4d_fold4.pth', 'label_num_to_disease_map.json', '.ipynb_checkpoints', 'train_images', 'resnext50_32x4d_fold1.pth', 'sample_submission.csv', 'train.log', 'pytorch-image-models-master', 'train.csv', 'test_tfrecords', 'sample_data']\n",
            "\n",
            "Remove zip files ? (yes/no) :yes\n",
            "\n",
            " Directory contains the following files :  ['.config', 'final_preds_a.csv', 'final_preds_b.csv', 'kaggle.json', 'efficientnet_b2_fold0_best.pth', 'resnext50_32x4d_fold2.pth', 'resnext50_32x4d_fold3.pth', 'train_tfrecords', 'resnext50_32x4d_fold0.pth', 'densenet201_fold0_best.pth', 'legacy_seresnext101_32x4d_fold0_best.pth', 'oof_df.csv', 'test_images', 'resnext50_32x4d_fold4.pth', 'label_num_to_disease_map.json', '.ipynb_checkpoints', 'train_images', 'resnext50_32x4d_fold1.pth', 'sample_submission.csv', 'train.log', 'pytorch-image-models-master', 'train.csv', 'test_tfrecords', 'sample_data']\n"
          ],
          "name": "stdout"
        }
      ]
    },
    {
      "cell_type": "code",
      "metadata": {
        "colab": {
          "base_uri": "https://localhost:8080/"
        },
        "id": "NzlC5twNnkR0",
        "outputId": "138f7233-3062-499f-c08b-837693bfc7d0"
      },
      "source": [
        "get_dataset('kaggle datasets download -d mohit13gidwani/densenet169-mergedoldnew-casava')"
      ],
      "execution_count": 92,
      "outputs": [
        {
          "output_type": "stream",
          "text": [
            "Downloading the dataset....\n",
            "\n",
            "Download completed..\n",
            "Unzipping the zip files\n",
            "\n",
            "Zip Files unzipped\n",
            "\n",
            " Directory contains the following files :  ['.config', 'final_preds_a.csv', 'final_preds_b.csv', 'kaggle.json', 'efficientnet_b2_fold0_best.pth', 'resnext50_32x4d_fold2.pth', 'resnext50_32x4d_fold3.pth', 'densenet169-mergedoldnew-casava.zip', 'train_tfrecords', 'resnext50_32x4d_fold0.pth', 'densenet201_fold0_best.pth', 'legacy_seresnext101_32x4d_fold0_best.pth', 'oof_df.csv', 'test_images', 'resnext50_32x4d_fold4.pth', 'label_num_to_disease_map.json', '.ipynb_checkpoints', 'train_images', 'resnext50_32x4d_fold1.pth', 'sample_submission.csv', 'densenet169_fold0_best.pth', 'train.log', 'pytorch-image-models-master', 'train.csv', 'test_tfrecords', 'sample_data']\n",
            "\n",
            "Remove zip files ? (yes/no) :yes\n",
            "\n",
            " Directory contains the following files :  ['.config', 'final_preds_a.csv', 'final_preds_b.csv', 'kaggle.json', 'efficientnet_b2_fold0_best.pth', 'resnext50_32x4d_fold2.pth', 'resnext50_32x4d_fold3.pth', 'train_tfrecords', 'resnext50_32x4d_fold0.pth', 'densenet201_fold0_best.pth', 'legacy_seresnext101_32x4d_fold0_best.pth', 'oof_df.csv', 'test_images', 'resnext50_32x4d_fold4.pth', 'label_num_to_disease_map.json', '.ipynb_checkpoints', 'train_images', 'resnext50_32x4d_fold1.pth', 'sample_submission.csv', 'densenet169_fold0_best.pth', 'train.log', 'pytorch-image-models-master', 'train.csv', 'test_tfrecords', 'sample_data']\n"
          ],
          "name": "stdout"
        }
      ]
    },
    {
      "cell_type": "code",
      "metadata": {
        "colab": {
          "base_uri": "https://localhost:8080/"
        },
        "id": "xqm3pQvjnkF4",
        "outputId": "75b5d3df-4a13-4574-c4d6-275866e887e3"
      },
      "source": [
        "get_dataset('kaggle datasets download -d mohit13gidwani/efficientnet-b3-merged-data-trained-model')"
      ],
      "execution_count": 93,
      "outputs": [
        {
          "output_type": "stream",
          "text": [
            "Downloading the dataset....\n",
            "\n",
            "Download completed..\n",
            "Unzipping the zip files\n",
            "\n",
            "Zip Files unzipped\n",
            "\n",
            " Directory contains the following files :  ['.config', 'final_preds_a.csv', 'final_preds_b.csv', 'kaggle.json', 'efficientnet_b2_fold0_best.pth', 'resnext50_32x4d_fold2.pth', 'resnext50_32x4d_fold3.pth', 'efficientnet_b3_fold0_best.pth', 'train_tfrecords', 'resnext50_32x4d_fold0.pth', 'densenet201_fold0_best.pth', 'legacy_seresnext101_32x4d_fold0_best.pth', 'oof_df.csv', 'test_images', 'efficientnet-b3-merged-data-trained-model.zip', 'resnext50_32x4d_fold4.pth', 'label_num_to_disease_map.json', '.ipynb_checkpoints', 'train_images', 'resnext50_32x4d_fold1.pth', 'sample_submission.csv', 'densenet169_fold0_best.pth', 'train.log', 'pytorch-image-models-master', 'train.csv', 'test_tfrecords', 'sample_data']\n",
            "\n",
            "Remove zip files ? (yes/no) :yes\n",
            "\n",
            " Directory contains the following files :  ['.config', 'final_preds_a.csv', 'final_preds_b.csv', 'kaggle.json', 'efficientnet_b2_fold0_best.pth', 'resnext50_32x4d_fold2.pth', 'resnext50_32x4d_fold3.pth', 'efficientnet_b3_fold0_best.pth', 'train_tfrecords', 'resnext50_32x4d_fold0.pth', 'densenet201_fold0_best.pth', 'legacy_seresnext101_32x4d_fold0_best.pth', 'oof_df.csv', 'test_images', 'resnext50_32x4d_fold4.pth', 'label_num_to_disease_map.json', '.ipynb_checkpoints', 'train_images', 'resnext50_32x4d_fold1.pth', 'sample_submission.csv', 'densenet169_fold0_best.pth', 'train.log', 'pytorch-image-models-master', 'train.csv', 'test_tfrecords', 'sample_data']\n"
          ],
          "name": "stdout"
        }
      ]
    }
  ]
}