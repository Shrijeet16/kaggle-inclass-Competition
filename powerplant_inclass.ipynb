{
  "nbformat": 4,
  "nbformat_minor": 0,
  "metadata": {
    "colab": {
      "name": "powerplant_inclass.ipynb",
      "provenance": [],
      "collapsed_sections": [],
      "authorship_tag": "ABX9TyNnkUS/ZSIRXwSYHD/2HZev",
      "include_colab_link": true
    },
    "kernelspec": {
      "name": "python3",
      "display_name": "Python 3"
    },
    "accelerator": "GPU"
  },
  "cells": [
    {
      "cell_type": "markdown",
      "metadata": {
        "id": "view-in-github",
        "colab_type": "text"
      },
      "source": [
        "<a href=\"https://colab.research.google.com/github/Shrijeet16/kaggle-inclass-Competition/blob/master/powerplant_inclass.ipynb\" target=\"_parent\"><img src=\"https://colab.research.google.com/assets/colab-badge.svg\" alt=\"Open In Colab\"/></a>"
      ]
    },
    {
      "cell_type": "code",
      "metadata": {
        "id": "xxo0wS2Jp2k7",
        "colab_type": "code",
        "colab": {
          "base_uri": "https://localhost:8080/",
          "height": 104
        },
        "outputId": "d71f1c30-8a78-421b-eade-a9be303414ee"
      },
      "source": [
        "!pip install kaggleDownloader"
      ],
      "execution_count": 1,
      "outputs": [
        {
          "output_type": "stream",
          "text": [
            "Collecting kaggleDownloader\n",
            "  Downloading https://files.pythonhosted.org/packages/d3/e4/1295bb4fbf9533dfe49a3764a87482c15f3f7bd4f5f9f66191f2cacaf53b/kaggleDownloader-4.2.1-py3-none-any.whl\n",
            "Installing collected packages: kaggleDownloader\n",
            "Successfully installed kaggleDownloader-4.2.1\n"
          ],
          "name": "stdout"
        }
      ]
    },
    {
      "cell_type": "code",
      "metadata": {
        "id": "22nyxsCwp9YY",
        "colab_type": "code",
        "colab": {}
      },
      "source": [
        "from kaggleDownloader import get_dataset"
      ],
      "execution_count": 2,
      "outputs": []
    },
    {
      "cell_type": "code",
      "metadata": {
        "id": "ZstKLMqwqFYa",
        "colab_type": "code",
        "colab": {
          "resources": {
            "http://localhost:8080/nbextensions/google.colab/files.js": {
              "data": "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",
              "ok": true,
              "headers": [
                [
                  "content-type",
                  "application/javascript"
                ]
              ],
              "status": 200,
              "status_text": ""
            }
          },
          "base_uri": "https://localhost:8080/",
          "height": 90
        },
        "outputId": "043277c9-78e0-4835-b02a-04584f43991d"
      },
      "source": [
        "from google.colab import files\n",
        "files.upload()"
      ],
      "execution_count": 3,
      "outputs": [
        {
          "output_type": "display_data",
          "data": {
            "text/html": [
              "\n",
              "     <input type=\"file\" id=\"files-a426f38c-18ba-4926-a012-8ddec033a742\" name=\"files[]\" multiple disabled\n",
              "        style=\"border:none\" />\n",
              "     <output id=\"result-a426f38c-18ba-4926-a012-8ddec033a742\">\n",
              "      Upload widget is only available when the cell has been executed in the\n",
              "      current browser session. Please rerun this cell to enable.\n",
              "      </output>\n",
              "      <script src=\"/nbextensions/google.colab/files.js\"></script> "
            ],
            "text/plain": [
              "<IPython.core.display.HTML object>"
            ]
          },
          "metadata": {
            "tags": []
          }
        },
        {
          "output_type": "stream",
          "text": [
            "Saving kaggle.json to kaggle.json\n"
          ],
          "name": "stdout"
        },
        {
          "output_type": "execute_result",
          "data": {
            "text/plain": [
              "{'kaggle.json': b'{\"username\":\"sj161199\",\"key\":\"9e960ddbb01322f1478dfef7a8a5c372\"}'}"
            ]
          },
          "metadata": {
            "tags": []
          },
          "execution_count": 3
        }
      ]
    },
    {
      "cell_type": "code",
      "metadata": {
        "id": "SSr_Zn_gqBWM",
        "colab_type": "code",
        "colab": {
          "base_uri": "https://localhost:8080/",
          "height": 238
        },
        "outputId": "3468dbcd-5280-4ab0-ed9e-59fd255e6c1a"
      },
      "source": [
        "get_dataset('kaggle competitions download -c power-plant-classification')"
      ],
      "execution_count": 4,
      "outputs": [
        {
          "output_type": "stream",
          "text": [
            "Downloading the dataset....\n",
            "\n",
            "Download completed..\n",
            "Unzipping the zip files\n",
            "\n",
            "Zip Files unzipped\n",
            "\n",
            " Directory contains the following files :  ['.config', 'kaggle.json', 'landsat_power_plants_train', 'naip_power_plants_train', 'naip_power_plants_test', 'training_labels.csv', 'power-plant-classification.zip', 'sample_submission.csv', 'landsat_power_plants_test', 'sample_data']\n",
            "\n",
            "Remove zip files ? (yes/no) :yes\n",
            "\n",
            " Directory contains the following files :  ['.config', 'kaggle.json', 'landsat_power_plants_train', 'naip_power_plants_train', 'naip_power_plants_test', 'training_labels.csv', 'sample_submission.csv', 'landsat_power_plants_test', 'sample_data']\n"
          ],
          "name": "stdout"
        }
      ]
    },
    {
      "cell_type": "code",
      "metadata": {
        "id": "hyzIH31jUvQi",
        "colab_type": "code",
        "colab": {}
      },
      "source": [
        "from tensorflow.keras.applications import vgg16\n",
        "import keras\n",
        "from keras.preprocessing.image import ImageDataGenerator"
      ],
      "execution_count": 5,
      "outputs": []
    },
    {
      "cell_type": "code",
      "metadata": {
        "id": "H97vB_OBq54-",
        "colab_type": "code",
        "colab": {}
      },
      "source": [
        "train_datagen = ImageDataGenerator(\n",
        "                rescale = 1./255,\n",
        "                rotation_range = 30,\n",
        "                width_shift_range = 20,\n",
        "                height_shift_range = 20,\n",
        "                brightness_range = (0.4,0.6),\n",
        "                shear_range = 0.2,\n",
        "                zoom_range = 0.2,\n",
        "                horizontal_flip = True,\n",
        "                vertical_flip = True)\n"
      ],
      "execution_count": 6,
      "outputs": []
    },
    {
      "cell_type": "code",
      "metadata": {
        "id": "z6AC7qEJh8Yp",
        "colab_type": "code",
        "colab": {}
      },
      "source": [
        "train_data_dir = 'landsat_power_plants_train/train/'"
      ],
      "execution_count": 7,
      "outputs": []
    },
    {
      "cell_type": "code",
      "metadata": {
        "id": "moWlNc-3mqWu",
        "colab_type": "code",
        "colab": {}
      },
      "source": [
        "image_height , image_width = 75 , 75\n",
        "batch_size = 16"
      ],
      "execution_count": 8,
      "outputs": []
    },
    {
      "cell_type": "code",
      "metadata": {
        "id": "WoQyN0YVmDRG",
        "colab_type": "code",
        "colab": {
          "base_uri": "https://localhost:8080/",
          "height": 34
        },
        "outputId": "efff60e8-41f0-41a5-c45f-0cc1a16156e4"
      },
      "source": [
        "train_generator = train_datagen.flow_from_directory(\n",
        "                  train_data_dir,\n",
        "                  target_size = (image_height, image_width),\n",
        "                  class_mode = 'categorical',\n",
        "                  batch_size = batch_size)\n"
      ],
      "execution_count": 9,
      "outputs": [
        {
          "output_type": "stream",
          "text": [
            "Found 2841 images belonging to 10 classes.\n"
          ],
          "name": "stdout"
        }
      ]
    },
    {
      "cell_type": "code",
      "metadata": {
        "id": "JToyQl4FsxTp",
        "colab_type": "code",
        "colab": {}
      },
      "source": [
        "test_datagen = ImageDataGenerator(\n",
        "                rescale = 1./255)"
      ],
      "execution_count": 10,
      "outputs": []
    },
    {
      "cell_type": "code",
      "metadata": {
        "id": "1M9AzVdLs8x5",
        "colab_type": "code",
        "colab": {}
      },
      "source": [
        "valid_data_dir = 'landsat_power_plants_train/valid/'\n",
        "test_data_dir = 'landsat_power_plants_test/'"
      ],
      "execution_count": 11,
      "outputs": []
    },
    {
      "cell_type": "code",
      "metadata": {
        "id": "aaIIEsEltQLW",
        "colab_type": "code",
        "colab": {
          "base_uri": "https://localhost:8080/",
          "height": 34
        },
        "outputId": "2294a33e-e07a-4a54-8933-01e9b5e1b5be"
      },
      "source": [
        "validation_generator = test_datagen.flow_from_directory(\n",
        "                        valid_data_dir,\n",
        "                        target_size = (image_height, image_width),\n",
        "                        class_mode = 'categorical',\n",
        "                        batch_size = batch_size)\n"
      ],
      "execution_count": 12,
      "outputs": [
        {
          "output_type": "stream",
          "text": [
            "Found 693 images belonging to 10 classes.\n"
          ],
          "name": "stdout"
        }
      ]
    },
    {
      "cell_type": "code",
      "metadata": {
        "id": "IlfIWg8Dt2c5",
        "colab_type": "code",
        "colab": {}
      },
      "source": [
        "vgg_conv = vgg16.VGG16(weights='imagenet', include_top=False, input_shape=(image_height, image_width, 3))"
      ],
      "execution_count": 41,
      "outputs": []
    },
    {
      "cell_type": "code",
      "metadata": {
        "id": "kutd5LgZ6Vlv",
        "colab_type": "code",
        "colab": {
          "base_uri": "https://localhost:8080/",
          "height": 790
        },
        "outputId": "4cd2f0e1-cbf7-4b92-dbc7-94df119f2b4e"
      },
      "source": [
        "for layer in vgg_conv.layers:\n",
        "  if layer.name == 'block5_conv1':\n",
        "    break\n",
        "  layer.trainable = False\n",
        "\n",
        "\n",
        "vgg_conv.summary()"
      ],
      "execution_count": 42,
      "outputs": [
        {
          "output_type": "stream",
          "text": [
            "Model: \"vgg16\"\n",
            "_________________________________________________________________\n",
            "Layer (type)                 Output Shape              Param #   \n",
            "=================================================================\n",
            "input_2 (InputLayer)         [(None, 75, 75, 3)]       0         \n",
            "_________________________________________________________________\n",
            "block1_conv1 (Conv2D)        (None, 75, 75, 64)        1792      \n",
            "_________________________________________________________________\n",
            "block1_conv2 (Conv2D)        (None, 75, 75, 64)        36928     \n",
            "_________________________________________________________________\n",
            "block1_pool (MaxPooling2D)   (None, 37, 37, 64)        0         \n",
            "_________________________________________________________________\n",
            "block2_conv1 (Conv2D)        (None, 37, 37, 128)       73856     \n",
            "_________________________________________________________________\n",
            "block2_conv2 (Conv2D)        (None, 37, 37, 128)       147584    \n",
            "_________________________________________________________________\n",
            "block2_pool (MaxPooling2D)   (None, 18, 18, 128)       0         \n",
            "_________________________________________________________________\n",
            "block3_conv1 (Conv2D)        (None, 18, 18, 256)       295168    \n",
            "_________________________________________________________________\n",
            "block3_conv2 (Conv2D)        (None, 18, 18, 256)       590080    \n",
            "_________________________________________________________________\n",
            "block3_conv3 (Conv2D)        (None, 18, 18, 256)       590080    \n",
            "_________________________________________________________________\n",
            "block3_pool (MaxPooling2D)   (None, 9, 9, 256)         0         \n",
            "_________________________________________________________________\n",
            "block4_conv1 (Conv2D)        (None, 9, 9, 512)         1180160   \n",
            "_________________________________________________________________\n",
            "block4_conv2 (Conv2D)        (None, 9, 9, 512)         2359808   \n",
            "_________________________________________________________________\n",
            "block4_conv3 (Conv2D)        (None, 9, 9, 512)         2359808   \n",
            "_________________________________________________________________\n",
            "block4_pool (MaxPooling2D)   (None, 4, 4, 512)         0         \n",
            "_________________________________________________________________\n",
            "block5_conv1 (Conv2D)        (None, 4, 4, 512)         2359808   \n",
            "_________________________________________________________________\n",
            "block5_conv2 (Conv2D)        (None, 4, 4, 512)         2359808   \n",
            "_________________________________________________________________\n",
            "block5_conv3 (Conv2D)        (None, 4, 4, 512)         2359808   \n",
            "_________________________________________________________________\n",
            "block5_pool (MaxPooling2D)   (None, 2, 2, 512)         0         \n",
            "=================================================================\n",
            "Total params: 14,714,688\n",
            "Trainable params: 7,079,424\n",
            "Non-trainable params: 7,635,264\n",
            "_________________________________________________________________\n"
          ],
          "name": "stdout"
        }
      ]
    },
    {
      "cell_type": "code",
      "metadata": {
        "id": "On28qowQHasQ",
        "colab_type": "code",
        "colab": {}
      },
      "source": [
        "from keras import callbacks\n",
        "from keras import optimizers\n",
        "from keras.engine import Model\n",
        "from keras.layers import Dropout, Flatten, Dense\n",
        "from keras.optimizers import Adam\n",
        "from keras.applications import VGG16\n",
        "from keras.datasets import cifar10\n",
        "from keras.utils import to_categorical"
      ],
      "execution_count": 43,
      "outputs": []
    },
    {
      "cell_type": "code",
      "metadata": {
        "id": "5LW85QkpHqeL",
        "colab_type": "code",
        "colab": {
          "base_uri": "https://localhost:8080/",
          "height": 991
        },
        "outputId": "e72345d9-5ce9-48ca-a34f-6354130fdb6f"
      },
      "source": [
        "last = vgg_conv.layers[-1].output\n",
        "x = Flatten()(last)\n",
        "x = Dense(1000, activation='relu', name='fc1')(x)\n",
        "x = Dropout(0.3)(x)\n",
        "x = Dense(80, activation='relu', name = 'fc2')(x)\n",
        "x = Dropout(0.3)(x)\n",
        "x = Dense(10, activation='softmax', name='predictions')(x)\n",
        "\n",
        "model = Model(vgg_conv.input, x)\n",
        "model.summary()"
      ],
      "execution_count": 46,
      "outputs": [
        {
          "output_type": "stream",
          "text": [
            "Model: \"functional_13\"\n",
            "_________________________________________________________________\n",
            "Layer (type)                 Output Shape              Param #   \n",
            "=================================================================\n",
            "input_2 (InputLayer)         [(None, 75, 75, 3)]       0         \n",
            "_________________________________________________________________\n",
            "block1_conv1 (Conv2D)        (None, 75, 75, 64)        1792      \n",
            "_________________________________________________________________\n",
            "block1_conv2 (Conv2D)        (None, 75, 75, 64)        36928     \n",
            "_________________________________________________________________\n",
            "block1_pool (MaxPooling2D)   (None, 37, 37, 64)        0         \n",
            "_________________________________________________________________\n",
            "block2_conv1 (Conv2D)        (None, 37, 37, 128)       73856     \n",
            "_________________________________________________________________\n",
            "block2_conv2 (Conv2D)        (None, 37, 37, 128)       147584    \n",
            "_________________________________________________________________\n",
            "block2_pool (MaxPooling2D)   (None, 18, 18, 128)       0         \n",
            "_________________________________________________________________\n",
            "block3_conv1 (Conv2D)        (None, 18, 18, 256)       295168    \n",
            "_________________________________________________________________\n",
            "block3_conv2 (Conv2D)        (None, 18, 18, 256)       590080    \n",
            "_________________________________________________________________\n",
            "block3_conv3 (Conv2D)        (None, 18, 18, 256)       590080    \n",
            "_________________________________________________________________\n",
            "block3_pool (MaxPooling2D)   (None, 9, 9, 256)         0         \n",
            "_________________________________________________________________\n",
            "block4_conv1 (Conv2D)        (None, 9, 9, 512)         1180160   \n",
            "_________________________________________________________________\n",
            "block4_conv2 (Conv2D)        (None, 9, 9, 512)         2359808   \n",
            "_________________________________________________________________\n",
            "block4_conv3 (Conv2D)        (None, 9, 9, 512)         2359808   \n",
            "_________________________________________________________________\n",
            "block4_pool (MaxPooling2D)   (None, 4, 4, 512)         0         \n",
            "_________________________________________________________________\n",
            "block5_conv1 (Conv2D)        (None, 4, 4, 512)         2359808   \n",
            "_________________________________________________________________\n",
            "block5_conv2 (Conv2D)        (None, 4, 4, 512)         2359808   \n",
            "_________________________________________________________________\n",
            "block5_conv3 (Conv2D)        (None, 4, 4, 512)         2359808   \n",
            "_________________________________________________________________\n",
            "block5_pool (MaxPooling2D)   (None, 2, 2, 512)         0         \n",
            "_________________________________________________________________\n",
            "flatten_6 (Flatten)          (None, 2048)              0         \n",
            "_________________________________________________________________\n",
            "fc1 (Dense)                  (None, 1000)              2049000   \n",
            "_________________________________________________________________\n",
            "dropout_11 (Dropout)         (None, 1000)              0         \n",
            "_________________________________________________________________\n",
            "fc2 (Dense)                  (None, 80)                80080     \n",
            "_________________________________________________________________\n",
            "dropout_12 (Dropout)         (None, 80)                0         \n",
            "_________________________________________________________________\n",
            "predictions (Dense)          (None, 10)                810       \n",
            "=================================================================\n",
            "Total params: 16,844,578\n",
            "Trainable params: 9,209,314\n",
            "Non-trainable params: 7,635,264\n",
            "_________________________________________________________________\n"
          ],
          "name": "stdout"
        }
      ]
    },
    {
      "cell_type": "code",
      "metadata": {
        "id": "I6A6N1vdIpZy",
        "colab_type": "code",
        "colab": {}
      },
      "source": [
        "model.compile(optimizer = Adam(learning_rate=0.001) , \n",
        "              loss = 'categorical_crossentropy' , metrics = ['accuracy'])\n"
      ],
      "execution_count": 47,
      "outputs": []
    },
    {
      "cell_type": "code",
      "metadata": {
        "id": "egQ3OASaTMbp",
        "colab_type": "code",
        "colab": {}
      },
      "source": [
        "no_train_examples = train_generator.samples\n",
        "no_valid_examples = validation_generator.samples\n",
        "epochs = 50\n",
        "batch_size = 16"
      ],
      "execution_count": 48,
      "outputs": []
    },
    {
      "cell_type": "code",
      "metadata": {
        "id": "xeUJBUdyVCmJ",
        "colab_type": "code",
        "colab": {
          "base_uri": "https://localhost:8080/",
          "height": 1000
        },
        "outputId": "d18464c9-3925-4c5f-d5cb-0fff28a559be"
      },
      "source": [
        "model.fit_generator(\n",
        "    train_generator,\n",
        "    steps_per_epoch = no_train_examples//batch_size,\n",
        "    epochs = epochs,\n",
        "    validation_data = validation_generator,\n",
        "    validation_steps = no_valid_examples//batch_size\n",
        ")"
      ],
      "execution_count": 49,
      "outputs": [
        {
          "output_type": "stream",
          "text": [
            "Epoch 1/50\n",
            "177/177 [==============================] - 9s 51ms/step - loss: 2.1069 - accuracy: 0.2329 - val_loss: 2.0590 - val_accuracy: 0.1701\n",
            "Epoch 2/50\n",
            "177/177 [==============================] - 9s 50ms/step - loss: 2.0250 - accuracy: 0.2372 - val_loss: 1.9674 - val_accuracy: 0.2689\n",
            "Epoch 3/50\n",
            "177/177 [==============================] - 9s 50ms/step - loss: 2.0069 - accuracy: 0.2619 - val_loss: 1.9770 - val_accuracy: 0.2747\n",
            "Epoch 4/50\n",
            "177/177 [==============================] - 9s 50ms/step - loss: 2.0076 - accuracy: 0.2531 - val_loss: 1.9701 - val_accuracy: 0.2747\n",
            "Epoch 5/50\n",
            "177/177 [==============================] - 9s 50ms/step - loss: 2.0046 - accuracy: 0.2570 - val_loss: 2.1391 - val_accuracy: 0.2805\n",
            "Epoch 6/50\n",
            "177/177 [==============================] - 9s 50ms/step - loss: 2.0147 - accuracy: 0.2743 - val_loss: 2.0045 - val_accuracy: 0.2703\n",
            "Epoch 7/50\n",
            "177/177 [==============================] - 9s 50ms/step - loss: 2.0062 - accuracy: 0.2662 - val_loss: 2.0041 - val_accuracy: 0.2762\n",
            "Epoch 8/50\n",
            "177/177 [==============================] - 9s 50ms/step - loss: 1.9793 - accuracy: 0.2782 - val_loss: 1.9440 - val_accuracy: 0.2965\n",
            "Epoch 9/50\n",
            "177/177 [==============================] - 9s 50ms/step - loss: 1.9730 - accuracy: 0.2931 - val_loss: 1.9789 - val_accuracy: 0.3023\n",
            "Epoch 10/50\n",
            "177/177 [==============================] - 9s 51ms/step - loss: 1.9586 - accuracy: 0.2949 - val_loss: 2.2421 - val_accuracy: 0.2733\n",
            "Epoch 11/50\n",
            "177/177 [==============================] - 9s 51ms/step - loss: 1.9436 - accuracy: 0.3019 - val_loss: 2.3106 - val_accuracy: 0.3198\n",
            "Epoch 12/50\n",
            "177/177 [==============================] - 9s 50ms/step - loss: 1.9338 - accuracy: 0.3115 - val_loss: 2.3043 - val_accuracy: 0.3169\n",
            "Epoch 13/50\n",
            "177/177 [==============================] - 9s 50ms/step - loss: 1.9258 - accuracy: 0.3062 - val_loss: 1.8955 - val_accuracy: 0.2892\n",
            "Epoch 14/50\n",
            "177/177 [==============================] - 9s 51ms/step - loss: 1.8907 - accuracy: 0.3080 - val_loss: 2.0616 - val_accuracy: 0.3023\n",
            "Epoch 15/50\n",
            "177/177 [==============================] - 9s 50ms/step - loss: 1.8984 - accuracy: 0.3069 - val_loss: 4.1683 - val_accuracy: 0.3009\n",
            "Epoch 16/50\n",
            "177/177 [==============================] - 9s 50ms/step - loss: 1.8845 - accuracy: 0.3133 - val_loss: 2.2418 - val_accuracy: 0.3110\n",
            "Epoch 17/50\n",
            "177/177 [==============================] - 9s 50ms/step - loss: 1.8597 - accuracy: 0.3207 - val_loss: 1.8791 - val_accuracy: 0.3140\n",
            "Epoch 18/50\n",
            "177/177 [==============================] - 9s 50ms/step - loss: 1.8561 - accuracy: 0.3218 - val_loss: 2.5844 - val_accuracy: 0.3081\n",
            "Epoch 19/50\n",
            "177/177 [==============================] - 9s 51ms/step - loss: 1.8585 - accuracy: 0.3133 - val_loss: 2.1241 - val_accuracy: 0.3212\n",
            "Epoch 20/50\n",
            "177/177 [==============================] - 9s 50ms/step - loss: 1.8553 - accuracy: 0.3168 - val_loss: 1.7981 - val_accuracy: 0.3358\n",
            "Epoch 21/50\n",
            "177/177 [==============================] - 9s 50ms/step - loss: 1.8409 - accuracy: 0.3179 - val_loss: 1.7853 - val_accuracy: 0.3198\n",
            "Epoch 22/50\n",
            "177/177 [==============================] - 9s 50ms/step - loss: 1.8482 - accuracy: 0.3288 - val_loss: 1.8075 - val_accuracy: 0.3372\n",
            "Epoch 23/50\n",
            "177/177 [==============================] - 9s 50ms/step - loss: 1.8298 - accuracy: 0.3232 - val_loss: 1.8041 - val_accuracy: 0.3358\n",
            "Epoch 24/50\n",
            "177/177 [==============================] - 9s 50ms/step - loss: 1.8488 - accuracy: 0.3285 - val_loss: 1.7960 - val_accuracy: 0.3183\n",
            "Epoch 25/50\n",
            "177/177 [==============================] - 9s 50ms/step - loss: 1.8293 - accuracy: 0.3211 - val_loss: 1.7828 - val_accuracy: 0.3547\n",
            "Epoch 26/50\n",
            "177/177 [==============================] - 9s 50ms/step - loss: 1.8218 - accuracy: 0.3352 - val_loss: 1.7830 - val_accuracy: 0.3474\n",
            "Epoch 27/50\n",
            "177/177 [==============================] - 9s 50ms/step - loss: 1.8210 - accuracy: 0.3331 - val_loss: 1.8775 - val_accuracy: 0.3387\n",
            "Epoch 28/50\n",
            "177/177 [==============================] - 9s 50ms/step - loss: 1.8098 - accuracy: 0.3430 - val_loss: 2.2320 - val_accuracy: 0.3358\n",
            "Epoch 29/50\n",
            "177/177 [==============================] - 9s 50ms/step - loss: 1.8404 - accuracy: 0.3260 - val_loss: 1.8388 - val_accuracy: 0.3517\n",
            "Epoch 30/50\n",
            "177/177 [==============================] - 9s 50ms/step - loss: 1.8127 - accuracy: 0.3395 - val_loss: 1.7807 - val_accuracy: 0.3532\n",
            "Epoch 31/50\n",
            "177/177 [==============================] - 9s 50ms/step - loss: 1.7971 - accuracy: 0.3517 - val_loss: 1.8179 - val_accuracy: 0.3590\n",
            "Epoch 32/50\n",
            "177/177 [==============================] - 9s 50ms/step - loss: 1.8062 - accuracy: 0.3607 - val_loss: 1.7728 - val_accuracy: 0.3852\n",
            "Epoch 33/50\n",
            "177/177 [==============================] - 9s 50ms/step - loss: 1.7764 - accuracy: 0.3674 - val_loss: 1.7843 - val_accuracy: 0.3808\n",
            "Epoch 34/50\n",
            "177/177 [==============================] - 9s 50ms/step - loss: 1.7794 - accuracy: 0.3749 - val_loss: 1.7581 - val_accuracy: 0.3895\n",
            "Epoch 35/50\n",
            "177/177 [==============================] - 9s 50ms/step - loss: 1.7748 - accuracy: 0.3784 - val_loss: 1.7404 - val_accuracy: 0.3983\n",
            "Epoch 36/50\n",
            "177/177 [==============================] - 9s 50ms/step - loss: 1.7745 - accuracy: 0.3798 - val_loss: 1.8098 - val_accuracy: 0.3924\n",
            "Epoch 37/50\n",
            "177/177 [==============================] - 9s 50ms/step - loss: 1.7734 - accuracy: 0.3766 - val_loss: 1.7824 - val_accuracy: 0.3895\n",
            "Epoch 38/50\n",
            "177/177 [==============================] - 9s 50ms/step - loss: 1.7566 - accuracy: 0.3816 - val_loss: 1.8231 - val_accuracy: 0.4041\n",
            "Epoch 39/50\n",
            "177/177 [==============================] - 9s 50ms/step - loss: 1.7519 - accuracy: 0.3904 - val_loss: 2.2527 - val_accuracy: 0.3750\n",
            "Epoch 40/50\n",
            "177/177 [==============================] - 9s 50ms/step - loss: 1.7382 - accuracy: 0.3926 - val_loss: 1.7612 - val_accuracy: 0.4142\n",
            "Epoch 41/50\n",
            "177/177 [==============================] - 9s 50ms/step - loss: 1.7258 - accuracy: 0.4007 - val_loss: 1.8312 - val_accuracy: 0.4201\n",
            "Epoch 42/50\n",
            "177/177 [==============================] - 9s 50ms/step - loss: 1.7211 - accuracy: 0.4007 - val_loss: 1.7864 - val_accuracy: 0.4041\n",
            "Epoch 43/50\n",
            "177/177 [==============================] - 9s 50ms/step - loss: 1.7004 - accuracy: 0.4184 - val_loss: 2.2329 - val_accuracy: 0.3983\n",
            "Epoch 44/50\n",
            "177/177 [==============================] - 9s 50ms/step - loss: 1.7252 - accuracy: 0.4092 - val_loss: 1.7484 - val_accuracy: 0.4128\n",
            "Epoch 45/50\n",
            "177/177 [==============================] - 9s 51ms/step - loss: 1.7167 - accuracy: 0.4103 - val_loss: 1.9110 - val_accuracy: 0.4055\n",
            "Epoch 46/50\n",
            "177/177 [==============================] - 9s 51ms/step - loss: 1.7201 - accuracy: 0.4106 - val_loss: 1.8283 - val_accuracy: 0.4099\n",
            "Epoch 47/50\n",
            "177/177 [==============================] - 9s 50ms/step - loss: 1.7135 - accuracy: 0.4173 - val_loss: 1.8615 - val_accuracy: 0.4012\n",
            "Epoch 48/50\n",
            "177/177 [==============================] - 9s 51ms/step - loss: 1.6996 - accuracy: 0.4188 - val_loss: 1.9371 - val_accuracy: 0.3997\n",
            "Epoch 49/50\n",
            "177/177 [==============================] - 9s 50ms/step - loss: 1.7036 - accuracy: 0.4103 - val_loss: 1.8818 - val_accuracy: 0.4288\n",
            "Epoch 50/50\n",
            "177/177 [==============================] - 9s 50ms/step - loss: 1.6895 - accuracy: 0.4152 - val_loss: 1.8473 - val_accuracy: 0.4230\n"
          ],
          "name": "stdout"
        },
        {
          "output_type": "execute_result",
          "data": {
            "text/plain": [
              "<tensorflow.python.keras.callbacks.History at 0x7f5006e78e80>"
            ]
          },
          "metadata": {
            "tags": []
          },
          "execution_count": 49
        }
      ]
    }
  ]
}